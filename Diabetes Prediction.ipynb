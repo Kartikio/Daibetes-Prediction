{
 "cells": [
  {
   "cell_type": "markdown",
   "id": "cac7872a",
   "metadata": {},
   "source": [
    "# Exploring Data"
   ]
  },
  {
   "cell_type": "code",
   "execution_count": 1,
   "id": "facf6c99",
   "metadata": {},
   "outputs": [],
   "source": [
    "# pandas, Version-1.3.4\n",
    "# numpy, Version-1.20.3\n",
    "# seaborn, Version-0.11.2\n",
    "# matplotlib, Version-3.4.3\n",
    "# sklearn, Version-1.0.2"
   ]
  },
  {
   "cell_type": "code",
   "execution_count": 2,
   "id": "2e5a3837",
   "metadata": {},
   "outputs": [],
   "source": [
    "import numpy as np\n",
    "import pandas as pd\n",
    "import seaborn as sns\n",
    "import matplotlib.pyplot as plt\n",
    "import warnings\n",
    "warnings.filterwarnings(\"ignore\")"
   ]
  },
  {
   "cell_type": "code",
   "execution_count": 3,
   "id": "1ddc98cc",
   "metadata": {},
   "outputs": [],
   "source": [
    "df = pd.read_csv('diabetes.csv')"
   ]
  },
  {
   "cell_type": "code",
   "execution_count": 89,
   "id": "2b8d8be9",
   "metadata": {},
   "outputs": [
    {
     "data": {
      "text/html": [
       "<div>\n",
       "<style scoped>\n",
       "    .dataframe tbody tr th:only-of-type {\n",
       "        vertical-align: middle;\n",
       "    }\n",
       "\n",
       "    .dataframe tbody tr th {\n",
       "        vertical-align: top;\n",
       "    }\n",
       "\n",
       "    .dataframe thead th {\n",
       "        text-align: right;\n",
       "    }\n",
       "</style>\n",
       "<table border=\"1\" class=\"dataframe\">\n",
       "  <thead>\n",
       "    <tr style=\"text-align: right;\">\n",
       "      <th></th>\n",
       "      <th>Pregnancies</th>\n",
       "      <th>Glucose</th>\n",
       "      <th>BloodPressure</th>\n",
       "      <th>SkinThickness</th>\n",
       "      <th>Insulin</th>\n",
       "      <th>BMI</th>\n",
       "      <th>DiabetesPedigreeFunction</th>\n",
       "      <th>Age</th>\n",
       "      <th>Outcome</th>\n",
       "    </tr>\n",
       "  </thead>\n",
       "  <tbody>\n",
       "    <tr>\n",
       "      <th>0</th>\n",
       "      <td>6</td>\n",
       "      <td>148</td>\n",
       "      <td>72</td>\n",
       "      <td>35</td>\n",
       "      <td>0</td>\n",
       "      <td>33.6</td>\n",
       "      <td>0.627</td>\n",
       "      <td>50</td>\n",
       "      <td>1</td>\n",
       "    </tr>\n",
       "    <tr>\n",
       "      <th>1</th>\n",
       "      <td>1</td>\n",
       "      <td>85</td>\n",
       "      <td>66</td>\n",
       "      <td>29</td>\n",
       "      <td>0</td>\n",
       "      <td>26.6</td>\n",
       "      <td>0.351</td>\n",
       "      <td>31</td>\n",
       "      <td>0</td>\n",
       "    </tr>\n",
       "    <tr>\n",
       "      <th>2</th>\n",
       "      <td>8</td>\n",
       "      <td>183</td>\n",
       "      <td>64</td>\n",
       "      <td>0</td>\n",
       "      <td>0</td>\n",
       "      <td>23.3</td>\n",
       "      <td>0.672</td>\n",
       "      <td>32</td>\n",
       "      <td>1</td>\n",
       "    </tr>\n",
       "    <tr>\n",
       "      <th>3</th>\n",
       "      <td>1</td>\n",
       "      <td>89</td>\n",
       "      <td>66</td>\n",
       "      <td>23</td>\n",
       "      <td>94</td>\n",
       "      <td>28.1</td>\n",
       "      <td>0.167</td>\n",
       "      <td>21</td>\n",
       "      <td>0</td>\n",
       "    </tr>\n",
       "    <tr>\n",
       "      <th>4</th>\n",
       "      <td>0</td>\n",
       "      <td>137</td>\n",
       "      <td>40</td>\n",
       "      <td>35</td>\n",
       "      <td>168</td>\n",
       "      <td>43.1</td>\n",
       "      <td>2.288</td>\n",
       "      <td>33</td>\n",
       "      <td>1</td>\n",
       "    </tr>\n",
       "  </tbody>\n",
       "</table>\n",
       "</div>"
      ],
      "text/plain": [
       "   Pregnancies  Glucose  BloodPressure  SkinThickness  Insulin   BMI  \\\n",
       "0            6      148             72             35        0  33.6   \n",
       "1            1       85             66             29        0  26.6   \n",
       "2            8      183             64              0        0  23.3   \n",
       "3            1       89             66             23       94  28.1   \n",
       "4            0      137             40             35      168  43.1   \n",
       "\n",
       "   DiabetesPedigreeFunction  Age  Outcome  \n",
       "0                     0.627   50        1  \n",
       "1                     0.351   31        0  \n",
       "2                     0.672   32        1  \n",
       "3                     0.167   21        0  \n",
       "4                     2.288   33        1  "
      ]
     },
     "execution_count": 89,
     "metadata": {},
     "output_type": "execute_result"
    }
   ],
   "source": [
    "df.head()"
   ]
  },
  {
   "cell_type": "code",
   "execution_count": 5,
   "id": "10fd7a28",
   "metadata": {},
   "outputs": [
    {
     "data": {
      "text/plain": [
       "Index(['Pregnancies', 'Glucose', 'BloodPressure', 'SkinThickness', 'Insulin',\n",
       "       'BMI', 'DiabetesPedigreeFunction', 'Age', 'Outcome'],\n",
       "      dtype='object')"
      ]
     },
     "execution_count": 5,
     "metadata": {},
     "output_type": "execute_result"
    }
   ],
   "source": [
    "df.columns"
   ]
  },
  {
   "cell_type": "code",
   "execution_count": 6,
   "id": "203603b1",
   "metadata": {},
   "outputs": [
    {
     "name": "stdout",
     "output_type": "stream",
     "text": [
      "<class 'pandas.core.frame.DataFrame'>\n",
      "RangeIndex: 768 entries, 0 to 767\n",
      "Data columns (total 9 columns):\n",
      " #   Column                    Non-Null Count  Dtype  \n",
      "---  ------                    --------------  -----  \n",
      " 0   Pregnancies               768 non-null    int64  \n",
      " 1   Glucose                   768 non-null    int64  \n",
      " 2   BloodPressure             768 non-null    int64  \n",
      " 3   SkinThickness             768 non-null    int64  \n",
      " 4   Insulin                   768 non-null    int64  \n",
      " 5   BMI                       768 non-null    float64\n",
      " 6   DiabetesPedigreeFunction  768 non-null    float64\n",
      " 7   Age                       768 non-null    int64  \n",
      " 8   Outcome                   768 non-null    int64  \n",
      "dtypes: float64(2), int64(7)\n",
      "memory usage: 54.1 KB\n"
     ]
    }
   ],
   "source": [
    "df.info()"
   ]
  },
  {
   "cell_type": "markdown",
   "id": "77d39110",
   "metadata": {},
   "source": [
    "# Cleaning Data"
   ]
  },
  {
   "cell_type": "code",
   "execution_count": 7,
   "id": "5b11ecbe",
   "metadata": {},
   "outputs": [
    {
     "data": {
      "text/plain": [
       "Pregnancies                 0\n",
       "Glucose                     0\n",
       "BloodPressure               0\n",
       "SkinThickness               0\n",
       "Insulin                     0\n",
       "BMI                         0\n",
       "DiabetesPedigreeFunction    0\n",
       "Age                         0\n",
       "Outcome                     0\n",
       "dtype: int64"
      ]
     },
     "execution_count": 7,
     "metadata": {},
     "output_type": "execute_result"
    }
   ],
   "source": [
    "df.isnull().sum()"
   ]
  },
  {
   "cell_type": "code",
   "execution_count": 8,
   "id": "dbff0a84",
   "metadata": {},
   "outputs": [
    {
     "data": {
      "text/plain": [
       "Pregnancies                 0\n",
       "Glucose                     0\n",
       "BloodPressure               0\n",
       "SkinThickness               0\n",
       "Insulin                     0\n",
       "BMI                         0\n",
       "DiabetesPedigreeFunction    0\n",
       "Age                         0\n",
       "Outcome                     0\n",
       "dtype: int64"
      ]
     },
     "execution_count": 8,
     "metadata": {},
     "output_type": "execute_result"
    }
   ],
   "source": [
    "df.isna().sum()"
   ]
  },
  {
   "cell_type": "code",
   "execution_count": 9,
   "id": "8feac2f6",
   "metadata": {},
   "outputs": [
    {
     "data": {
      "text/plain": [
       "(768, 9)"
      ]
     },
     "execution_count": 9,
     "metadata": {},
     "output_type": "execute_result"
    }
   ],
   "source": [
    "df.shape"
   ]
  },
  {
   "cell_type": "code",
   "execution_count": 10,
   "id": "910e6793",
   "metadata": {},
   "outputs": [
    {
     "data": {
      "text/plain": [
       "array([0, 1], dtype=int64)"
      ]
     },
     "execution_count": 10,
     "metadata": {},
     "output_type": "execute_result"
    }
   ],
   "source": [
    "np.unique(df.Outcome)"
   ]
  },
  {
   "cell_type": "markdown",
   "id": "0e7fa454",
   "metadata": {},
   "source": [
    "# Outliers"
   ]
  },
  {
   "cell_type": "code",
   "execution_count": 11,
   "id": "e6cf3580",
   "metadata": {},
   "outputs": [],
   "source": [
    "all_features = df.columns\n",
    "target = 'Outcome'\n",
    "features = all_features.drop('Outcome')"
   ]
  },
  {
   "cell_type": "code",
   "execution_count": 21,
   "id": "ceaa9e90",
   "metadata": {},
   "outputs": [
    {
     "data": {
      "image/png": "[encoded data removed]",
      "text/plain": [
       "<Figure size 1296x1296 with 8 Axes>"
      ]
     },
     "metadata": {
      "needs_background": "light"
     },
     "output_type": "display_data"
    }
   ],
   "source": [
    "fig, axs = plt.subplots(4, 2, figsize = (18,18))\n",
    "for col,axidx in zip(df.columns, axs.flat):\n",
    "    plt.xlabel(col)\n",
    "    sns.distplot(df[col], rug = True, ax = axidx)"
   ]
  },
  {
   "cell_type": "code",
   "execution_count": 22,
   "id": "f377a62b",
   "metadata": {},
   "outputs": [
    {
     "data": {
      "text/plain": [
       "Pregnancies                 111\n",
       "Glucose                       5\n",
       "BloodPressure                35\n",
       "SkinThickness               227\n",
       "Insulin                     374\n",
       "BMI                          11\n",
       "DiabetesPedigreeFunction      0\n",
       "Age                           0\n",
       "Outcome                     500\n",
       "dtype: int64"
      ]
     },
     "execution_count": 22,
     "metadata": {},
     "output_type": "execute_result"
    }
   ],
   "source": [
    "anomalous = df[df == 0].count()\n",
    "anomalous"
   ]
  },
  {
   "cell_type": "code",
   "execution_count": 23,
   "id": "7ab83f89",
   "metadata": {},
   "outputs": [
    {
     "data": {
      "text/plain": [
       "Pregnancies                 111\n",
       "Glucose                       5\n",
       "BloodPressure                35\n",
       "SkinThickness               227\n",
       "Insulin                     374\n",
       "BMI                          11\n",
       "DiabetesPedigreeFunction      0\n",
       "Age                           0\n",
       "Outcome                     500\n",
       "dtype: int64"
      ]
     },
     "execution_count": 23,
     "metadata": {},
     "output_type": "execute_result"
    }
   ],
   "source": [
    "anomalous"
   ]
  },
  {
   "cell_type": "code",
   "execution_count": 24,
   "id": "c02fe62a",
   "metadata": {},
   "outputs": [],
   "source": [
    "anomalous = dict(anomalous)\n",
    "kv_pairs = list(anomalous.items())\n",
    "for key,value in kv_pairs:\n",
    "    if (key == 'Outcome') or (key == 'Pregnancies') or (value == 0):\n",
    "        del anomalous[key]"
   ]
  },
  {
   "cell_type": "code",
   "execution_count": 25,
   "id": "acb0bd21",
   "metadata": {},
   "outputs": [
    {
     "data": {
      "text/plain": [
       "{'Glucose': 5,\n",
       " 'BloodPressure': 35,\n",
       " 'SkinThickness': 227,\n",
       " 'Insulin': 374,\n",
       " 'BMI': 11}"
      ]
     },
     "execution_count": 25,
     "metadata": {},
     "output_type": "execute_result"
    }
   ],
   "source": [
    "anomalous"
   ]
  },
  {
   "cell_type": "code",
   "execution_count": 26,
   "id": "4e64cecb",
   "metadata": {},
   "outputs": [
    {
     "data": {
      "text/plain": [
       "Pregnancies                  99\n",
       "Glucose                       0\n",
       "BloodPressure                 0\n",
       "SkinThickness               192\n",
       "Insulin                     332\n",
       "BMI                           0\n",
       "DiabetesPedigreeFunction      0\n",
       "Age                           0\n",
       "Outcome                     475\n",
       "dtype: int64"
      ]
     },
     "execution_count": 26,
     "metadata": {},
     "output_type": "execute_result"
    }
   ],
   "source": [
    "df_modified = df[(df.Glucose != 0) & (df.BloodPressure != 0) & (df.BMI != 0)]\n",
    "df_modified[df == 0].count()"
   ]
  },
  {
   "cell_type": "code",
   "execution_count": 27,
   "id": "b4f9dbd4",
   "metadata": {},
   "outputs": [
    {
     "data": {
      "text/plain": [
       "(724, 9)"
      ]
     },
     "execution_count": 27,
     "metadata": {},
     "output_type": "execute_result"
    }
   ],
   "source": [
    "df_modified.shape"
   ]
  },
  {
   "cell_type": "markdown",
   "id": "c5d1c047",
   "metadata": {},
   "source": [
    "# Importing Models"
   ]
  },
  {
   "cell_type": "code",
   "execution_count": 28,
   "id": "6f0c1f70",
   "metadata": {},
   "outputs": [],
   "source": [
    "from sklearn.model_selection import train_test_split\n",
    "from sklearn.model_selection import cross_val_score\n",
    "from sklearn.model_selection import StratifiedKFold\n",
    "from sklearn.metrics import accuracy_score"
   ]
  },
  {
   "cell_type": "code",
   "execution_count": 29,
   "id": "8be1a1a9",
   "metadata": {},
   "outputs": [],
   "source": [
    "#Classification Models\n",
    "from sklearn.linear_model import LogisticRegression\n",
    "from sklearn.svm import SVC\n",
    "from sklearn.tree import DecisionTreeClassifier\n",
    "from sklearn.ensemble import RandomForestClassifier\n",
    "from sklearn.ensemble import GradientBoostingClassifier\n",
    "from sklearn.ensemble import ExtraTreesClassifier"
   ]
  },
  {
   "cell_type": "code",
   "execution_count": 30,
   "id": "2de621ab",
   "metadata": {},
   "outputs": [],
   "source": [
    "#For Dimensionlaity Reduction Algorithms\n",
    "from sklearn.feature_selection import RFECV"
   ]
  },
  {
   "cell_type": "code",
   "execution_count": 31,
   "id": "28d250f5",
   "metadata": {},
   "outputs": [],
   "source": [
    "#Used in Hyper Parameter Tuning\n",
    "from sklearn.model_selection import GridSearchCV"
   ]
  },
  {
   "cell_type": "code",
   "execution_count": 32,
   "id": "2a96e8ff",
   "metadata": {},
   "outputs": [],
   "source": [
    "#Used to scale data\n",
    "from sklearn.preprocessing import StandardScaler"
   ]
  },
  {
   "cell_type": "markdown",
   "id": "3c2515a2",
   "metadata": {},
   "source": [
    "# Splitting Data"
   ]
  },
  {
   "cell_type": "code",
   "execution_count": 33,
   "id": "99b67c68",
   "metadata": {},
   "outputs": [],
   "source": [
    "X = df_modified[features]\n",
    "y = df_modified[target]"
   ]
  },
  {
   "cell_type": "code",
   "execution_count": 34,
   "id": "97c67d15",
   "metadata": {},
   "outputs": [
    {
     "data": {
      "text/html": [
       "<div>\n",
       "<style scoped>\n",
       "    .dataframe tbody tr th:only-of-type {\n",
       "        vertical-align: middle;\n",
       "    }\n",
       "\n",
       "    .dataframe tbody tr th {\n",
       "        vertical-align: top;\n",
       "    }\n",
       "\n",
       "    .dataframe thead th {\n",
       "        text-align: right;\n",
       "    }\n",
       "</style>\n",
       "<table border=\"1\" class=\"dataframe\">\n",
       "  <thead>\n",
       "    <tr style=\"text-align: right;\">\n",
       "      <th></th>\n",
       "      <th>Pregnancies</th>\n",
       "      <th>Glucose</th>\n",
       "      <th>BloodPressure</th>\n",
       "      <th>SkinThickness</th>\n",
       "      <th>Insulin</th>\n",
       "      <th>BMI</th>\n",
       "      <th>DiabetesPedigreeFunction</th>\n",
       "      <th>Age</th>\n",
       "    </tr>\n",
       "  </thead>\n",
       "  <tbody>\n",
       "    <tr>\n",
       "      <th>0</th>\n",
       "      <td>0.635022</td>\n",
       "      <td>0.849933</td>\n",
       "      <td>-0.032378</td>\n",
       "      <td>0.862278</td>\n",
       "      <td>-0.722572</td>\n",
       "      <td>0.164562</td>\n",
       "      <td>0.458421</td>\n",
       "      <td>1.416075</td>\n",
       "    </tr>\n",
       "    <tr>\n",
       "      <th>1</th>\n",
       "      <td>-0.852861</td>\n",
       "      <td>-1.200262</td>\n",
       "      <td>-0.517370</td>\n",
       "      <td>0.480644</td>\n",
       "      <td>-0.722572</td>\n",
       "      <td>-0.852262</td>\n",
       "      <td>-0.372691</td>\n",
       "      <td>-0.199947</td>\n",
       "    </tr>\n",
       "    <tr>\n",
       "      <th>2</th>\n",
       "      <td>1.230175</td>\n",
       "      <td>1.988930</td>\n",
       "      <td>-0.679035</td>\n",
       "      <td>-1.363918</td>\n",
       "      <td>-0.722572</td>\n",
       "      <td>-1.331622</td>\n",
       "      <td>0.593928</td>\n",
       "      <td>-0.114893</td>\n",
       "    </tr>\n",
       "    <tr>\n",
       "      <th>3</th>\n",
       "      <td>-0.852861</td>\n",
       "      <td>-1.070091</td>\n",
       "      <td>-0.517370</td>\n",
       "      <td>0.099010</td>\n",
       "      <td>0.081288</td>\n",
       "      <td>-0.634371</td>\n",
       "      <td>-0.926765</td>\n",
       "      <td>-1.050485</td>\n",
       "    </tr>\n",
       "    <tr>\n",
       "      <th>4</th>\n",
       "      <td>-1.150438</td>\n",
       "      <td>0.491962</td>\n",
       "      <td>-2.619006</td>\n",
       "      <td>0.862278</td>\n",
       "      <td>0.714115</td>\n",
       "      <td>1.544537</td>\n",
       "      <td>5.460146</td>\n",
       "      <td>-0.029839</td>\n",
       "    </tr>\n",
       "    <tr>\n",
       "      <th>...</th>\n",
       "      <td>...</td>\n",
       "      <td>...</td>\n",
       "      <td>...</td>\n",
       "      <td>...</td>\n",
       "      <td>...</td>\n",
       "      <td>...</td>\n",
       "      <td>...</td>\n",
       "      <td>...</td>\n",
       "    </tr>\n",
       "    <tr>\n",
       "      <th>763</th>\n",
       "      <td>1.825328</td>\n",
       "      <td>-0.679578</td>\n",
       "      <td>0.290951</td>\n",
       "      <td>1.689150</td>\n",
       "      <td>0.816736</td>\n",
       "      <td>0.062879</td>\n",
       "      <td>-0.914720</td>\n",
       "      <td>2.521775</td>\n",
       "    </tr>\n",
       "    <tr>\n",
       "      <th>764</th>\n",
       "      <td>-0.555284</td>\n",
       "      <td>0.003821</td>\n",
       "      <td>-0.194042</td>\n",
       "      <td>0.353433</td>\n",
       "      <td>-0.722572</td>\n",
       "      <td>0.629395</td>\n",
       "      <td>-0.405815</td>\n",
       "      <td>-0.540162</td>\n",
       "    </tr>\n",
       "    <tr>\n",
       "      <th>765</th>\n",
       "      <td>0.337445</td>\n",
       "      <td>-0.028722</td>\n",
       "      <td>-0.032378</td>\n",
       "      <td>0.099010</td>\n",
       "      <td>0.235219</td>\n",
       "      <td>-0.910366</td>\n",
       "      <td>-0.691886</td>\n",
       "      <td>-0.285001</td>\n",
       "    </tr>\n",
       "    <tr>\n",
       "      <th>766</th>\n",
       "      <td>-0.852861</td>\n",
       "      <td>0.133992</td>\n",
       "      <td>-1.002363</td>\n",
       "      <td>-1.363918</td>\n",
       "      <td>-0.722572</td>\n",
       "      <td>-0.343850</td>\n",
       "      <td>-0.378713</td>\n",
       "      <td>1.160914</td>\n",
       "    </tr>\n",
       "    <tr>\n",
       "      <th>767</th>\n",
       "      <td>-0.852861</td>\n",
       "      <td>-0.939920</td>\n",
       "      <td>-0.194042</td>\n",
       "      <td>0.607855</td>\n",
       "      <td>-0.722572</td>\n",
       "      <td>-0.300272</td>\n",
       "      <td>-0.481097</td>\n",
       "      <td>-0.880377</td>\n",
       "    </tr>\n",
       "  </tbody>\n",
       "</table>\n",
       "<p>724 rows × 8 columns</p>\n",
       "</div>"
      ],
      "text/plain": [
       "     Pregnancies   Glucose  BloodPressure  SkinThickness   Insulin       BMI  \\\n",
       "0       0.635022  0.849933      -0.032378       0.862278 -0.722572  0.164562   \n",
       "1      -0.852861 -1.200262      -0.517370       0.480644 -0.722572 -0.852262   \n",
       "2       1.230175  1.988930      -0.679035      -1.363918 -0.722572 -1.331622   \n",
       "3      -0.852861 -1.070091      -0.517370       0.099010  0.081288 -0.634371   \n",
       "4      -1.150438  0.491962      -2.619006       0.862278  0.714115  1.544537   \n",
       "..           ...       ...            ...            ...       ...       ...   \n",
       "763     1.825328 -0.679578       0.290951       1.689150  0.816736  0.062879   \n",
       "764    -0.555284  0.003821      -0.194042       0.353433 -0.722572  0.629395   \n",
       "765     0.337445 -0.028722      -0.032378       0.099010  0.235219 -0.910366   \n",
       "766    -0.852861  0.133992      -1.002363      -1.363918 -0.722572 -0.343850   \n",
       "767    -0.852861 -0.939920      -0.194042       0.607855 -0.722572 -0.300272   \n",
       "\n",
       "     DiabetesPedigreeFunction       Age  \n",
       "0                    0.458421  1.416075  \n",
       "1                   -0.372691 -0.199947  \n",
       "2                    0.593928 -0.114893  \n",
       "3                   -0.926765 -1.050485  \n",
       "4                    5.460146 -0.029839  \n",
       "..                        ...       ...  \n",
       "763                 -0.914720  2.521775  \n",
       "764                 -0.405815 -0.540162  \n",
       "765                 -0.691886 -0.285001  \n",
       "766                 -0.378713  1.160914  \n",
       "767                 -0.481097 -0.880377  \n",
       "\n",
       "[724 rows x 8 columns]"
      ]
     },
     "execution_count": 34,
     "metadata": {},
     "output_type": "execute_result"
    }
   ],
   "source": [
    "scaler = StandardScaler()\n",
    "X[features] = scaler.fit_transform(X[features]) \n",
    "X"
   ]
  },
  {
   "cell_type": "code",
   "execution_count": 35,
   "id": "08df7dca",
   "metadata": {},
   "outputs": [],
   "source": [
    "X_train, X_test, y_train, y_test = train_test_split(X, y, stratify = y, random_state = 0)"
   ]
  },
  {
   "cell_type": "code",
   "execution_count": 36,
   "id": "45792ebf",
   "metadata": {},
   "outputs": [],
   "source": [
    "strat_k_fold = StratifiedKFold(n_splits=10, random_state = 10, shuffle = True)"
   ]
  },
  {
   "cell_type": "markdown",
   "id": "5946e622",
   "metadata": {},
   "source": [
    "# Logistic Regression"
   ]
  },
  {
   "cell_type": "code",
   "execution_count": 37,
   "id": "03390552",
   "metadata": {},
   "outputs": [],
   "source": [
    "log_reg_scores = []"
   ]
  },
  {
   "cell_type": "code",
   "execution_count": 38,
   "id": "3a872183",
   "metadata": {},
   "outputs": [],
   "source": [
    "log_reg_1 = LogisticRegression(solver = 'lbfgs', max_iter = 4000)"
   ]
  },
  {
   "cell_type": "code",
   "execution_count": 39,
   "id": "4e6f9409",
   "metadata": {},
   "outputs": [
    {
     "data": {
      "text/plain": [
       "0.7702020202020201"
      ]
     },
     "execution_count": 39,
     "metadata": {},
     "output_type": "execute_result"
    }
   ],
   "source": [
    "score_log_reg_1 = cross_val_score(log_reg_1, X_train, y_train, \n",
    "                                  cv=strat_k_fold, scoring='accuracy').mean()\n",
    "score_log_reg_1"
   ]
  },
  {
   "cell_type": "code",
   "execution_count": 40,
   "id": "a8129045",
   "metadata": {},
   "outputs": [],
   "source": [
    "log_reg_scores.append(score_log_reg_1)"
   ]
  },
  {
   "cell_type": "markdown",
   "id": "4d0dd8b8",
   "metadata": {},
   "source": [
    "##### 1.Dimensionality Reduction"
   ]
  },
  {
   "cell_type": "code",
   "execution_count": 41,
   "id": "96affb7b",
   "metadata": {},
   "outputs": [],
   "source": [
    "log_reg_2 = LogisticRegression(solver = 'lbfgs', max_iter = 4000)"
   ]
  },
  {
   "cell_type": "code",
   "execution_count": 42,
   "id": "daf740d5",
   "metadata": {},
   "outputs": [],
   "source": [
    "rfecv_log_reg = RFECV(estimator = log_reg_2, step = 1, \n",
    "                      cv = strat_k_fold, scoring = 'accuracy')"
   ]
  },
  {
   "cell_type": "code",
   "execution_count": 43,
   "id": "04e340dc",
   "metadata": {},
   "outputs": [
    {
     "data": {
      "text/plain": [
       "RFECV(cv=StratifiedKFold(n_splits=10, random_state=10, shuffle=True),\n",
       "      estimator=LogisticRegression(max_iter=4000), scoring='accuracy')"
      ]
     },
     "execution_count": 43,
     "metadata": {},
     "output_type": "execute_result"
    }
   ],
   "source": [
    "rfecv_log_reg.fit(X_train, y_train)"
   ]
  },
  {
   "cell_type": "code",
   "execution_count": 44,
   "id": "e2844c36",
   "metadata": {},
   "outputs": [
    {
     "data": {
      "image/png": "[encoded data removed]",
      "text/plain": [
       "<Figure size 432x288 with 1 Axes>"
      ]
     },
     "metadata": {
      "needs_background": "light"
     },
     "output_type": "display_data"
    }
   ],
   "source": [
    "plt.plot(range(1, len(rfecv_log_reg.grid_scores_) + 1), rfecv_log_reg.grid_scores_)\n",
    "plt.show()"
   ]
  },
  {
   "cell_type": "code",
   "execution_count": 45,
   "id": "d4434ace",
   "metadata": {},
   "outputs": [
    {
     "data": {
      "text/plain": [
       "array(['Pregnancies', 'Glucose', 'BMI', 'DiabetesPedigreeFunction'],\n",
       "      dtype=object)"
      ]
     },
     "execution_count": 45,
     "metadata": {},
     "output_type": "execute_result"
    }
   ],
   "source": [
    "new_features_log_reg = rfecv_log_reg.get_feature_names_out()\n",
    "new_features_log_reg"
   ]
  },
  {
   "cell_type": "code",
   "execution_count": 46,
   "id": "d4680987",
   "metadata": {},
   "outputs": [
    {
     "data": {
      "text/html": [
       "<div>\n",
       "<style scoped>\n",
       "    .dataframe tbody tr th:only-of-type {\n",
       "        vertical-align: middle;\n",
       "    }\n",
       "\n",
       "    .dataframe tbody tr th {\n",
       "        vertical-align: top;\n",
       "    }\n",
       "\n",
       "    .dataframe thead th {\n",
       "        text-align: right;\n",
       "    }\n",
       "</style>\n",
       "<table border=\"1\" class=\"dataframe\">\n",
       "  <thead>\n",
       "    <tr style=\"text-align: right;\">\n",
       "      <th></th>\n",
       "      <th>Pregnancies</th>\n",
       "      <th>Glucose</th>\n",
       "      <th>BMI</th>\n",
       "      <th>DiabetesPedigreeFunction</th>\n",
       "    </tr>\n",
       "  </thead>\n",
       "  <tbody>\n",
       "    <tr>\n",
       "      <th>513</th>\n",
       "      <td>-0.555284</td>\n",
       "      <td>-1.005005</td>\n",
       "      <td>-0.750580</td>\n",
       "      <td>0.151271</td>\n",
       "    </tr>\n",
       "    <tr>\n",
       "      <th>645</th>\n",
       "      <td>-0.555284</td>\n",
       "      <td>1.142818</td>\n",
       "      <td>1.007073</td>\n",
       "      <td>-1.026137</td>\n",
       "    </tr>\n",
       "    <tr>\n",
       "      <th>305</th>\n",
       "      <td>-0.555284</td>\n",
       "      <td>-0.061265</td>\n",
       "      <td>1.050651</td>\n",
       "      <td>-0.782224</td>\n",
       "    </tr>\n",
       "    <tr>\n",
       "      <th>373</th>\n",
       "      <td>-0.555284</td>\n",
       "      <td>-0.549407</td>\n",
       "      <td>0.353400</td>\n",
       "      <td>-0.752111</td>\n",
       "    </tr>\n",
       "    <tr>\n",
       "      <th>179</th>\n",
       "      <td>0.337445</td>\n",
       "      <td>0.264163</td>\n",
       "      <td>0.963495</td>\n",
       "      <td>1.449130</td>\n",
       "    </tr>\n",
       "    <tr>\n",
       "      <th>...</th>\n",
       "      <td>...</td>\n",
       "      <td>...</td>\n",
       "      <td>...</td>\n",
       "      <td>...</td>\n",
       "    </tr>\n",
       "    <tr>\n",
       "      <th>442</th>\n",
       "      <td>0.039869</td>\n",
       "      <td>-0.158893</td>\n",
       "      <td>0.106458</td>\n",
       "      <td>-0.737055</td>\n",
       "    </tr>\n",
       "    <tr>\n",
       "      <th>234</th>\n",
       "      <td>-0.257708</td>\n",
       "      <td>-1.558233</td>\n",
       "      <td>-0.401954</td>\n",
       "      <td>-0.547345</td>\n",
       "    </tr>\n",
       "    <tr>\n",
       "      <th>90</th>\n",
       "      <td>-0.852861</td>\n",
       "      <td>-1.362976</td>\n",
       "      <td>-1.941716</td>\n",
       "      <td>-0.652739</td>\n",
       "    </tr>\n",
       "    <tr>\n",
       "      <th>241</th>\n",
       "      <td>0.039869</td>\n",
       "      <td>-1.005005</td>\n",
       "      <td>0.091931</td>\n",
       "      <td>-0.086620</td>\n",
       "    </tr>\n",
       "    <tr>\n",
       "      <th>660</th>\n",
       "      <td>1.825328</td>\n",
       "      <td>1.305532</td>\n",
       "      <td>-0.692475</td>\n",
       "      <td>-0.881596</td>\n",
       "    </tr>\n",
       "  </tbody>\n",
       "</table>\n",
       "<p>543 rows × 4 columns</p>\n",
       "</div>"
      ],
      "text/plain": [
       "     Pregnancies   Glucose       BMI  DiabetesPedigreeFunction\n",
       "513    -0.555284 -1.005005 -0.750580                  0.151271\n",
       "645    -0.555284  1.142818  1.007073                 -1.026137\n",
       "305    -0.555284 -0.061265  1.050651                 -0.782224\n",
       "373    -0.555284 -0.549407  0.353400                 -0.752111\n",
       "179     0.337445  0.264163  0.963495                  1.449130\n",
       "..           ...       ...       ...                       ...\n",
       "442     0.039869 -0.158893  0.106458                 -0.737055\n",
       "234    -0.257708 -1.558233 -0.401954                 -0.547345\n",
       "90     -0.852861 -1.362976 -1.941716                 -0.652739\n",
       "241     0.039869 -1.005005  0.091931                 -0.086620\n",
       "660     1.825328  1.305532 -0.692475                 -0.881596\n",
       "\n",
       "[543 rows x 4 columns]"
      ]
     },
     "execution_count": 46,
     "metadata": {},
     "output_type": "execute_result"
    }
   ],
   "source": [
    "X_new_log_reg = X_train[new_features_log_reg]\n",
    "X_new_log_reg"
   ]
  },
  {
   "cell_type": "code",
   "execution_count": 47,
   "id": "cd32c560",
   "metadata": {},
   "outputs": [
    {
     "data": {
      "text/plain": [
       "0.7774747474747474"
      ]
     },
     "execution_count": 47,
     "metadata": {},
     "output_type": "execute_result"
    }
   ],
   "source": [
    "score_log_reg_2 = cross_val_score(log_reg_2, X_new_log_reg, y_train, cv = strat_k_fold, scoring='accuracy').mean()\n",
    "score_log_reg_2"
   ]
  },
  {
   "cell_type": "code",
   "execution_count": 48,
   "id": "fb7baeb3",
   "metadata": {},
   "outputs": [],
   "source": [
    "log_reg_scores.append(score_log_reg_2)"
   ]
  },
  {
   "cell_type": "markdown",
   "id": "10de77f5",
   "metadata": {},
   "source": [
    "##### 2.Hyper Parameter Tuning"
   ]
  },
  {
   "cell_type": "code",
   "execution_count": 49,
   "id": "52be0741",
   "metadata": {},
   "outputs": [],
   "source": [
    "# Specify parameters\n",
    "c_values = list(np.arange(1, 10))\n",
    "\n",
    "param_grid_log_reg = [\n",
    "    {'C': c_values, \n",
    "     'penalty': ['l1'], \n",
    "     'solver' : ['liblinear'], \n",
    "     'multi_class' : ['ovr']},\n",
    "    \n",
    "    {'C': c_values, 'penalty': ['l2'], \n",
    "     'solver' : ['liblinear', 'newton-cg', 'lbfgs'], \n",
    "     'multi_class' : ['ovr']}]"
   ]
  },
  {
   "cell_type": "code",
   "execution_count": 50,
   "id": "1dabb6b5",
   "metadata": {},
   "outputs": [
    {
     "data": {
      "text/plain": [
       "GridSearchCV(cv=StratifiedKFold(n_splits=10, random_state=10, shuffle=True),\n",
       "             estimator=LogisticRegression(),\n",
       "             param_grid=[{'C': [1, 2, 3, 4, 5, 6, 7, 8, 9],\n",
       "                          'multi_class': ['ovr'], 'penalty': ['l1'],\n",
       "                          'solver': ['liblinear']},\n",
       "                         {'C': [1, 2, 3, 4, 5, 6, 7, 8, 9],\n",
       "                          'multi_class': ['ovr'], 'penalty': ['l2'],\n",
       "                          'solver': ['liblinear', 'newton-cg', 'lbfgs']}],\n",
       "             scoring='accuracy')"
      ]
     },
     "execution_count": 50,
     "metadata": {},
     "output_type": "execute_result"
    }
   ],
   "source": [
    "grid_log_reg = GridSearchCV(LogisticRegression(), param_grid_log_reg, \n",
    "                            cv=strat_k_fold, scoring='accuracy')\n",
    "grid_log_reg.fit(X_new_log_reg, y_train)"
   ]
  },
  {
   "cell_type": "code",
   "execution_count": 51,
   "id": "c21aa8a9",
   "metadata": {},
   "outputs": [
    {
     "data": {
      "text/plain": [
       "{'C': 1, 'multi_class': 'ovr', 'penalty': 'l1', 'solver': 'liblinear'}"
      ]
     },
     "execution_count": 51,
     "metadata": {},
     "output_type": "execute_result"
    }
   ],
   "source": [
    "grid_log_reg.best_params_"
   ]
  },
  {
   "cell_type": "code",
   "execution_count": 52,
   "id": "fd774983",
   "metadata": {},
   "outputs": [
    {
     "data": {
      "text/plain": [
       "LogisticRegression(C=1, multi_class='ovr', penalty='l1', solver='liblinear')"
      ]
     },
     "execution_count": 52,
     "metadata": {},
     "output_type": "execute_result"
    }
   ],
   "source": [
    "grid_log_reg.best_estimator_"
   ]
  },
  {
   "cell_type": "markdown",
   "id": "c2d377fa",
   "metadata": {},
   "source": [
    "##### 3.Final Model"
   ]
  },
  {
   "cell_type": "code",
   "execution_count": 53,
   "id": "27ef9616",
   "metadata": {},
   "outputs": [],
   "source": [
    "log_reg_3 = LogisticRegression(C=1, multi_class= 'ovr', \n",
    "                               penalty='l1', solver= 'liblinear' )"
   ]
  },
  {
   "cell_type": "code",
   "execution_count": 54,
   "id": "d850933a",
   "metadata": {},
   "outputs": [],
   "source": [
    "log_reg_3.fit(X_new_log_reg, y_train)\n",
    "y_pred_1 = log_reg_3.predict(X_new_log_reg)"
   ]
  },
  {
   "cell_type": "code",
   "execution_count": 55,
   "id": "228bbe2a",
   "metadata": {},
   "outputs": [
    {
     "data": {
      "text/plain": [
       "0.7771639042357275"
      ]
     },
     "execution_count": 55,
     "metadata": {},
     "output_type": "execute_result"
    }
   ],
   "source": [
    "score_log_reg_3 = accuracy_score(y_train, y_pred_1)\n",
    "score_log_reg_3"
   ]
  },
  {
   "cell_type": "code",
   "execution_count": 56,
   "id": "06333d45",
   "metadata": {},
   "outputs": [],
   "source": [
    "log_reg_scores.append(score_log_reg_3)"
   ]
  },
  {
   "cell_type": "markdown",
   "id": "53c0bef5",
   "metadata": {},
   "source": [
    "##### 4.Testing"
   ]
  },
  {
   "cell_type": "code",
   "execution_count": 125,
   "id": "5bf614d1",
   "metadata": {},
   "outputs": [
    {
     "data": {
      "text/html": [
       "<div>\n",
       "<style scoped>\n",
       "    .dataframe tbody tr th:only-of-type {\n",
       "        vertical-align: middle;\n",
       "    }\n",
       "\n",
       "    .dataframe tbody tr th {\n",
       "        vertical-align: top;\n",
       "    }\n",
       "\n",
       "    .dataframe thead th {\n",
       "        text-align: right;\n",
       "    }\n",
       "</style>\n",
       "<table border=\"1\" class=\"dataframe\">\n",
       "  <thead>\n",
       "    <tr style=\"text-align: right;\">\n",
       "      <th></th>\n",
       "      <th>Pregnancies</th>\n",
       "      <th>Glucose</th>\n",
       "      <th>BMI</th>\n",
       "      <th>DiabetesPedigreeFunction</th>\n",
       "    </tr>\n",
       "  </thead>\n",
       "  <tbody>\n",
       "    <tr>\n",
       "      <th>625</th>\n",
       "      <td>0.039869</td>\n",
       "      <td>-1.037548</td>\n",
       "      <td>0.760130</td>\n",
       "      <td>-0.339567</td>\n",
       "    </tr>\n",
       "    <tr>\n",
       "      <th>141</th>\n",
       "      <td>0.337445</td>\n",
       "      <td>-0.516864</td>\n",
       "      <td>1.021599</td>\n",
       "      <td>-0.568424</td>\n",
       "    </tr>\n",
       "    <tr>\n",
       "      <th>626</th>\n",
       "      <td>-1.150438</td>\n",
       "      <td>0.101449</td>\n",
       "      <td>-1.128257</td>\n",
       "      <td>-0.809325</td>\n",
       "    </tr>\n",
       "    <tr>\n",
       "      <th>696</th>\n",
       "      <td>-0.257708</td>\n",
       "      <td>1.533331</td>\n",
       "      <td>-0.372902</td>\n",
       "      <td>-0.622627</td>\n",
       "    </tr>\n",
       "    <tr>\n",
       "      <th>258</th>\n",
       "      <td>-0.852861</td>\n",
       "      <td>2.314358</td>\n",
       "      <td>-0.953944</td>\n",
       "      <td>0.542736</td>\n",
       "    </tr>\n",
       "    <tr>\n",
       "      <th>...</th>\n",
       "      <td>...</td>\n",
       "      <td>...</td>\n",
       "      <td>...</td>\n",
       "      <td>...</td>\n",
       "    </tr>\n",
       "    <tr>\n",
       "      <th>691</th>\n",
       "      <td>2.718058</td>\n",
       "      <td>1.175361</td>\n",
       "      <td>1.428328</td>\n",
       "      <td>-0.655751</td>\n",
       "    </tr>\n",
       "    <tr>\n",
       "      <th>302</th>\n",
       "      <td>0.337445</td>\n",
       "      <td>-1.460604</td>\n",
       "      <td>0.484135</td>\n",
       "      <td>-0.959889</td>\n",
       "    </tr>\n",
       "    <tr>\n",
       "      <th>439</th>\n",
       "      <td>0.635022</td>\n",
       "      <td>-0.484321</td>\n",
       "      <td>0.629395</td>\n",
       "      <td>0.759548</td>\n",
       "    </tr>\n",
       "    <tr>\n",
       "      <th>552</th>\n",
       "      <td>0.635022</td>\n",
       "      <td>-0.256522</td>\n",
       "      <td>-0.677949</td>\n",
       "      <td>-0.685863</td>\n",
       "    </tr>\n",
       "    <tr>\n",
       "      <th>277</th>\n",
       "      <td>-1.150438</td>\n",
       "      <td>-0.581949</td>\n",
       "      <td>-0.677949</td>\n",
       "      <td>-0.062530</td>\n",
       "    </tr>\n",
       "  </tbody>\n",
       "</table>\n",
       "<p>181 rows × 4 columns</p>\n",
       "</div>"
      ],
      "text/plain": [
       "     Pregnancies   Glucose       BMI  DiabetesPedigreeFunction\n",
       "625     0.039869 -1.037548  0.760130                 -0.339567\n",
       "141     0.337445 -0.516864  1.021599                 -0.568424\n",
       "626    -1.150438  0.101449 -1.128257                 -0.809325\n",
       "696    -0.257708  1.533331 -0.372902                 -0.622627\n",
       "258    -0.852861  2.314358 -0.953944                  0.542736\n",
       "..           ...       ...       ...                       ...\n",
       "691     2.718058  1.175361  1.428328                 -0.655751\n",
       "302     0.337445 -1.460604  0.484135                 -0.959889\n",
       "439     0.635022 -0.484321  0.629395                  0.759548\n",
       "552     0.635022 -0.256522 -0.677949                 -0.685863\n",
       "277    -1.150438 -0.581949 -0.677949                 -0.062530\n",
       "\n",
       "[181 rows x 4 columns]"
      ]
     },
     "execution_count": 125,
     "metadata": {},
     "output_type": "execute_result"
    }
   ],
   "source": [
    "X_test_log_reg = X_test[new_features_log_reg]\n",
    "X_test_log_reg"
   ]
  },
  {
   "cell_type": "code",
   "execution_count": 126,
   "id": "82af2c0d",
   "metadata": {},
   "outputs": [
    {
     "data": {
      "text/plain": [
       "0.7900552486187845"
      ]
     },
     "execution_count": 126,
     "metadata": {},
     "output_type": "execute_result"
    }
   ],
   "source": [
    "y_pred_2 = log_reg_3.predict(X_test_log_reg)\n",
    "score_log_reg_4 = accuracy_score(y_test, y_pred_2)\n",
    "score_log_reg_4"
   ]
  },
  {
   "cell_type": "code",
   "execution_count": 127,
   "id": "1127dbe9",
   "metadata": {},
   "outputs": [],
   "source": [
    "log_reg_scores.append(score_log_reg_4)"
   ]
  },
  {
   "cell_type": "code",
   "execution_count": 128,
   "id": "be55881b",
   "metadata": {},
   "outputs": [
    {
     "data": {
      "text/plain": [
       "[0.7702020202020201,\n",
       " 0.7774747474747474,\n",
       " 0.7771639042357275,\n",
       " 0.7900552486187845]"
      ]
     },
     "execution_count": 128,
     "metadata": {},
     "output_type": "execute_result"
    }
   ],
   "source": [
    "log_reg_scores"
   ]
  },
  {
   "cell_type": "code",
   "execution_count": null,
   "id": "38f071be",
   "metadata": {},
   "outputs": [],
   "source": []
  },
  {
   "cell_type": "markdown",
   "id": "ccba7b43",
   "metadata": {},
   "source": [
    "# Support Vector Classification"
   ]
  },
  {
   "cell_type": "code",
   "execution_count": 129,
   "id": "f030edaa",
   "metadata": {},
   "outputs": [],
   "source": [
    "svc_scores = []"
   ]
  },
  {
   "cell_type": "code",
   "execution_count": 130,
   "id": "2b3c9732",
   "metadata": {},
   "outputs": [],
   "source": [
    "svc_1 = SVC(kernel = 'linear')"
   ]
  },
  {
   "cell_type": "code",
   "execution_count": 131,
   "id": "ce0df4c5",
   "metadata": {},
   "outputs": [
    {
     "data": {
      "text/plain": [
       "0.7645454545454546"
      ]
     },
     "execution_count": 131,
     "metadata": {},
     "output_type": "execute_result"
    }
   ],
   "source": [
    "score_svc_1 = cross_val_score(svc_1, X_train, y_train, \n",
    "                              cv=strat_k_fold, \n",
    "                              scoring='accuracy').mean()\n",
    "score_svc_1"
   ]
  },
  {
   "cell_type": "code",
   "execution_count": 132,
   "id": "779b9b8b",
   "metadata": {},
   "outputs": [],
   "source": [
    "svc_scores.append(score_svc_1)"
   ]
  },
  {
   "cell_type": "markdown",
   "id": "f8334c30",
   "metadata": {},
   "source": [
    "##### 1.Dimensionality Reduction"
   ]
  },
  {
   "cell_type": "code",
   "execution_count": 133,
   "id": "a3e28f3f",
   "metadata": {},
   "outputs": [
    {
     "data": {
      "text/plain": [
       "RFECV(cv=StratifiedKFold(n_splits=10, random_state=10, shuffle=True),\n",
       "      estimator=SVC(kernel='linear'), scoring='accuracy')"
      ]
     },
     "execution_count": 133,
     "metadata": {},
     "output_type": "execute_result"
    }
   ],
   "source": [
    "rfecv_svc = RFECV(SVC(kernel = 'linear'), step=1, cv=strat_k_fold,scoring='accuracy')\n",
    "rfecv_svc.fit(X_train, y_train)"
   ]
  },
  {
   "cell_type": "code",
   "execution_count": 134,
   "id": "743df4fb",
   "metadata": {},
   "outputs": [
    {
     "data": {
      "image/png": "[encoded data removed]",
      "text/plain": [
       "<Figure size 432x288 with 1 Axes>"
      ]
     },
     "metadata": {
      "needs_background": "light"
     },
     "output_type": "display_data"
    }
   ],
   "source": [
    "plt.plot(range(1, len(rfecv_log_reg.grid_scores_) + 1), rfecv_svc.grid_scores_)\n",
    "plt.show()"
   ]
  },
  {
   "cell_type": "code",
   "execution_count": 135,
   "id": "c9920057",
   "metadata": {},
   "outputs": [
    {
     "data": {
      "text/plain": [
       "array(['Pregnancies', 'Glucose', 'BMI', 'DiabetesPedigreeFunction'],\n",
       "      dtype=object)"
      ]
     },
     "execution_count": 135,
     "metadata": {},
     "output_type": "execute_result"
    }
   ],
   "source": [
    "new_features_svc = rfecv_svc.get_feature_names_out()\n",
    "new_features_svc"
   ]
  },
  {
   "cell_type": "code",
   "execution_count": 136,
   "id": "64e9204a",
   "metadata": {},
   "outputs": [
    {
     "data": {
      "text/html": [
       "<div>\n",
       "<style scoped>\n",
       "    .dataframe tbody tr th:only-of-type {\n",
       "        vertical-align: middle;\n",
       "    }\n",
       "\n",
       "    .dataframe tbody tr th {\n",
       "        vertical-align: top;\n",
       "    }\n",
       "\n",
       "    .dataframe thead th {\n",
       "        text-align: right;\n",
       "    }\n",
       "</style>\n",
       "<table border=\"1\" class=\"dataframe\">\n",
       "  <thead>\n",
       "    <tr style=\"text-align: right;\">\n",
       "      <th></th>\n",
       "      <th>Pregnancies</th>\n",
       "      <th>Glucose</th>\n",
       "      <th>BMI</th>\n",
       "      <th>DiabetesPedigreeFunction</th>\n",
       "    </tr>\n",
       "  </thead>\n",
       "  <tbody>\n",
       "    <tr>\n",
       "      <th>513</th>\n",
       "      <td>-0.555284</td>\n",
       "      <td>-1.005005</td>\n",
       "      <td>-0.750580</td>\n",
       "      <td>0.151271</td>\n",
       "    </tr>\n",
       "    <tr>\n",
       "      <th>645</th>\n",
       "      <td>-0.555284</td>\n",
       "      <td>1.142818</td>\n",
       "      <td>1.007073</td>\n",
       "      <td>-1.026137</td>\n",
       "    </tr>\n",
       "    <tr>\n",
       "      <th>305</th>\n",
       "      <td>-0.555284</td>\n",
       "      <td>-0.061265</td>\n",
       "      <td>1.050651</td>\n",
       "      <td>-0.782224</td>\n",
       "    </tr>\n",
       "    <tr>\n",
       "      <th>373</th>\n",
       "      <td>-0.555284</td>\n",
       "      <td>-0.549407</td>\n",
       "      <td>0.353400</td>\n",
       "      <td>-0.752111</td>\n",
       "    </tr>\n",
       "    <tr>\n",
       "      <th>179</th>\n",
       "      <td>0.337445</td>\n",
       "      <td>0.264163</td>\n",
       "      <td>0.963495</td>\n",
       "      <td>1.449130</td>\n",
       "    </tr>\n",
       "    <tr>\n",
       "      <th>...</th>\n",
       "      <td>...</td>\n",
       "      <td>...</td>\n",
       "      <td>...</td>\n",
       "      <td>...</td>\n",
       "    </tr>\n",
       "    <tr>\n",
       "      <th>442</th>\n",
       "      <td>0.039869</td>\n",
       "      <td>-0.158893</td>\n",
       "      <td>0.106458</td>\n",
       "      <td>-0.737055</td>\n",
       "    </tr>\n",
       "    <tr>\n",
       "      <th>234</th>\n",
       "      <td>-0.257708</td>\n",
       "      <td>-1.558233</td>\n",
       "      <td>-0.401954</td>\n",
       "      <td>-0.547345</td>\n",
       "    </tr>\n",
       "    <tr>\n",
       "      <th>90</th>\n",
       "      <td>-0.852861</td>\n",
       "      <td>-1.362976</td>\n",
       "      <td>-1.941716</td>\n",
       "      <td>-0.652739</td>\n",
       "    </tr>\n",
       "    <tr>\n",
       "      <th>241</th>\n",
       "      <td>0.039869</td>\n",
       "      <td>-1.005005</td>\n",
       "      <td>0.091931</td>\n",
       "      <td>-0.086620</td>\n",
       "    </tr>\n",
       "    <tr>\n",
       "      <th>660</th>\n",
       "      <td>1.825328</td>\n",
       "      <td>1.305532</td>\n",
       "      <td>-0.692475</td>\n",
       "      <td>-0.881596</td>\n",
       "    </tr>\n",
       "  </tbody>\n",
       "</table>\n",
       "<p>543 rows × 4 columns</p>\n",
       "</div>"
      ],
      "text/plain": [
       "     Pregnancies   Glucose       BMI  DiabetesPedigreeFunction\n",
       "513    -0.555284 -1.005005 -0.750580                  0.151271\n",
       "645    -0.555284  1.142818  1.007073                 -1.026137\n",
       "305    -0.555284 -0.061265  1.050651                 -0.782224\n",
       "373    -0.555284 -0.549407  0.353400                 -0.752111\n",
       "179     0.337445  0.264163  0.963495                  1.449130\n",
       "..           ...       ...       ...                       ...\n",
       "442     0.039869 -0.158893  0.106458                 -0.737055\n",
       "234    -0.257708 -1.558233 -0.401954                 -0.547345\n",
       "90     -0.852861 -1.362976 -1.941716                 -0.652739\n",
       "241     0.039869 -1.005005  0.091931                 -0.086620\n",
       "660     1.825328  1.305532 -0.692475                 -0.881596\n",
       "\n",
       "[543 rows x 4 columns]"
      ]
     },
     "execution_count": 136,
     "metadata": {},
     "output_type": "execute_result"
    }
   ],
   "source": [
    "X_new_svc = X_train[new_features_svc]\n",
    "X_new_svc"
   ]
  },
  {
   "cell_type": "code",
   "execution_count": 137,
   "id": "441e23cd",
   "metadata": {},
   "outputs": [
    {
     "data": {
      "text/plain": [
       "0.7719191919191919"
      ]
     },
     "execution_count": 137,
     "metadata": {},
     "output_type": "execute_result"
    }
   ],
   "source": [
    "score_svc_2 = cross_val_score(SVC(kernel = 'linear'), X_new_svc, y_train, cv=strat_k_fold, scoring='accuracy').mean()\n",
    "score_svc_2"
   ]
  },
  {
   "cell_type": "code",
   "execution_count": 138,
   "id": "764f798b",
   "metadata": {},
   "outputs": [],
   "source": [
    "svc_scores.append(score_svc_2)"
   ]
  },
  {
   "cell_type": "markdown",
   "id": "f1785377",
   "metadata": {},
   "source": [
    "##### 2.Hyper Parameter Tuning"
   ]
  },
  {
   "cell_type": "code",
   "execution_count": 139,
   "id": "45291cbf",
   "metadata": {},
   "outputs": [],
   "source": [
    "param_grid_svc ={\n",
    "                'C' : [0.1, 1, 10, 50, 100],\n",
    "                'gamma' : [1,0.1,0.01,0.0001],\n",
    "                'decision_function_shape' : ['ovo', 'ovr']\n",
    "}"
   ]
  },
  {
   "cell_type": "code",
   "execution_count": 140,
   "id": "6a894f51",
   "metadata": {},
   "outputs": [
    {
     "data": {
      "text/plain": [
       "GridSearchCV(cv=StratifiedKFold(n_splits=10, random_state=10, shuffle=True),\n",
       "             estimator=SVC(kernel='linear'),\n",
       "             param_grid={'C': [0.1, 1, 10, 50, 100],\n",
       "                         'decision_function_shape': ['ovo', 'ovr'],\n",
       "                         'gamma': [1, 0.1, 0.01, 0.0001]},\n",
       "             scoring='accuracy')"
      ]
     },
     "execution_count": 140,
     "metadata": {},
     "output_type": "execute_result"
    }
   ],
   "source": [
    "grid_svc = GridSearchCV(SVC(kernel = 'linear'), \n",
    "                        param_grid_svc, \n",
    "                        cv = strat_k_fold, \n",
    "                        scoring = 'accuracy')\n",
    "grid_svc.fit(X_new_svc, y_train)"
   ]
  },
  {
   "cell_type": "code",
   "execution_count": 141,
   "id": "42454f78",
   "metadata": {},
   "outputs": [
    {
     "data": {
      "text/plain": [
       "{'C': 0.1, 'decision_function_shape': 'ovo', 'gamma': 1}"
      ]
     },
     "execution_count": 141,
     "metadata": {},
     "output_type": "execute_result"
    }
   ],
   "source": [
    "grid_svc.best_params_"
   ]
  },
  {
   "cell_type": "code",
   "execution_count": 142,
   "id": "d0309507",
   "metadata": {},
   "outputs": [
    {
     "data": {
      "text/plain": [
       "SVC(C=0.1, decision_function_shape='ovo', gamma=1, kernel='linear')"
      ]
     },
     "execution_count": 142,
     "metadata": {},
     "output_type": "execute_result"
    }
   ],
   "source": [
    "grid_svc.best_estimator_"
   ]
  },
  {
   "cell_type": "markdown",
   "id": "28512fb2",
   "metadata": {},
   "source": [
    "##### 3.Final Model"
   ]
  },
  {
   "cell_type": "code",
   "execution_count": 143,
   "id": "d3fc8426",
   "metadata": {},
   "outputs": [],
   "source": [
    "svc_2 = SVC(C=0.1, decision_function_shape='ovo', gamma=1, kernel='linear')"
   ]
  },
  {
   "cell_type": "code",
   "execution_count": 144,
   "id": "dc683cfd",
   "metadata": {},
   "outputs": [
    {
     "data": {
      "text/plain": [
       "SVC(C=0.1, decision_function_shape='ovo', gamma=1, kernel='linear')"
      ]
     },
     "execution_count": 144,
     "metadata": {},
     "output_type": "execute_result"
    }
   ],
   "source": [
    "svc_2.fit(X_new_svc, y_train)"
   ]
  },
  {
   "cell_type": "code",
   "execution_count": 145,
   "id": "26a2a160",
   "metadata": {},
   "outputs": [
    {
     "data": {
      "text/plain": [
       "0.7771639042357275"
      ]
     },
     "execution_count": 145,
     "metadata": {},
     "output_type": "execute_result"
    }
   ],
   "source": [
    "y_pred_3 = svc_2.predict(X_new_svc)\n",
    "score_svc_3 = accuracy_score(y_train, y_pred_3)\n",
    "score_svc_3"
   ]
  },
  {
   "cell_type": "code",
   "execution_count": 146,
   "id": "ae398b27",
   "metadata": {},
   "outputs": [],
   "source": [
    "svc_scores.append(score_svc_3)"
   ]
  },
  {
   "cell_type": "markdown",
   "id": "377f808a",
   "metadata": {},
   "source": [
    "##### 4.Testing"
   ]
  },
  {
   "cell_type": "code",
   "execution_count": 147,
   "id": "033b6afb",
   "metadata": {},
   "outputs": [
    {
     "data": {
      "text/html": [
       "<div>\n",
       "<style scoped>\n",
       "    .dataframe tbody tr th:only-of-type {\n",
       "        vertical-align: middle;\n",
       "    }\n",
       "\n",
       "    .dataframe tbody tr th {\n",
       "        vertical-align: top;\n",
       "    }\n",
       "\n",
       "    .dataframe thead th {\n",
       "        text-align: right;\n",
       "    }\n",
       "</style>\n",
       "<table border=\"1\" class=\"dataframe\">\n",
       "  <thead>\n",
       "    <tr style=\"text-align: right;\">\n",
       "      <th></th>\n",
       "      <th>Pregnancies</th>\n",
       "      <th>Glucose</th>\n",
       "      <th>BMI</th>\n",
       "      <th>DiabetesPedigreeFunction</th>\n",
       "    </tr>\n",
       "  </thead>\n",
       "  <tbody>\n",
       "    <tr>\n",
       "      <th>625</th>\n",
       "      <td>0.039869</td>\n",
       "      <td>-1.037548</td>\n",
       "      <td>0.760130</td>\n",
       "      <td>-0.339567</td>\n",
       "    </tr>\n",
       "    <tr>\n",
       "      <th>141</th>\n",
       "      <td>0.337445</td>\n",
       "      <td>-0.516864</td>\n",
       "      <td>1.021599</td>\n",
       "      <td>-0.568424</td>\n",
       "    </tr>\n",
       "    <tr>\n",
       "      <th>626</th>\n",
       "      <td>-1.150438</td>\n",
       "      <td>0.101449</td>\n",
       "      <td>-1.128257</td>\n",
       "      <td>-0.809325</td>\n",
       "    </tr>\n",
       "    <tr>\n",
       "      <th>696</th>\n",
       "      <td>-0.257708</td>\n",
       "      <td>1.533331</td>\n",
       "      <td>-0.372902</td>\n",
       "      <td>-0.622627</td>\n",
       "    </tr>\n",
       "    <tr>\n",
       "      <th>258</th>\n",
       "      <td>-0.852861</td>\n",
       "      <td>2.314358</td>\n",
       "      <td>-0.953944</td>\n",
       "      <td>0.542736</td>\n",
       "    </tr>\n",
       "    <tr>\n",
       "      <th>...</th>\n",
       "      <td>...</td>\n",
       "      <td>...</td>\n",
       "      <td>...</td>\n",
       "      <td>...</td>\n",
       "    </tr>\n",
       "    <tr>\n",
       "      <th>691</th>\n",
       "      <td>2.718058</td>\n",
       "      <td>1.175361</td>\n",
       "      <td>1.428328</td>\n",
       "      <td>-0.655751</td>\n",
       "    </tr>\n",
       "    <tr>\n",
       "      <th>302</th>\n",
       "      <td>0.337445</td>\n",
       "      <td>-1.460604</td>\n",
       "      <td>0.484135</td>\n",
       "      <td>-0.959889</td>\n",
       "    </tr>\n",
       "    <tr>\n",
       "      <th>439</th>\n",
       "      <td>0.635022</td>\n",
       "      <td>-0.484321</td>\n",
       "      <td>0.629395</td>\n",
       "      <td>0.759548</td>\n",
       "    </tr>\n",
       "    <tr>\n",
       "      <th>552</th>\n",
       "      <td>0.635022</td>\n",
       "      <td>-0.256522</td>\n",
       "      <td>-0.677949</td>\n",
       "      <td>-0.685863</td>\n",
       "    </tr>\n",
       "    <tr>\n",
       "      <th>277</th>\n",
       "      <td>-1.150438</td>\n",
       "      <td>-0.581949</td>\n",
       "      <td>-0.677949</td>\n",
       "      <td>-0.062530</td>\n",
       "    </tr>\n",
       "  </tbody>\n",
       "</table>\n",
       "<p>181 rows × 4 columns</p>\n",
       "</div>"
      ],
      "text/plain": [
       "     Pregnancies   Glucose       BMI  DiabetesPedigreeFunction\n",
       "625     0.039869 -1.037548  0.760130                 -0.339567\n",
       "141     0.337445 -0.516864  1.021599                 -0.568424\n",
       "626    -1.150438  0.101449 -1.128257                 -0.809325\n",
       "696    -0.257708  1.533331 -0.372902                 -0.622627\n",
       "258    -0.852861  2.314358 -0.953944                  0.542736\n",
       "..           ...       ...       ...                       ...\n",
       "691     2.718058  1.175361  1.428328                 -0.655751\n",
       "302     0.337445 -1.460604  0.484135                 -0.959889\n",
       "439     0.635022 -0.484321  0.629395                  0.759548\n",
       "552     0.635022 -0.256522 -0.677949                 -0.685863\n",
       "277    -1.150438 -0.581949 -0.677949                 -0.062530\n",
       "\n",
       "[181 rows x 4 columns]"
      ]
     },
     "execution_count": 147,
     "metadata": {},
     "output_type": "execute_result"
    }
   ],
   "source": [
    "X_test_svc = X_test[new_features_svc]\n",
    "X_test_svc"
   ]
  },
  {
   "cell_type": "code",
   "execution_count": 148,
   "id": "1bff0f30",
   "metadata": {},
   "outputs": [
    {
     "data": {
      "text/plain": [
       "0.7734806629834254"
      ]
     },
     "execution_count": 148,
     "metadata": {},
     "output_type": "execute_result"
    }
   ],
   "source": [
    "y_pred_4 = svc_2.predict(X_test_svc)\n",
    "score_svc_4 = accuracy_score(y_test, y_pred_4)\n",
    "score_svc_4"
   ]
  },
  {
   "cell_type": "code",
   "execution_count": 149,
   "id": "b0747fc2",
   "metadata": {},
   "outputs": [],
   "source": [
    "svc_scores.append(score_svc_4)"
   ]
  },
  {
   "cell_type": "code",
   "execution_count": 150,
   "id": "6f0f19fa",
   "metadata": {},
   "outputs": [
    {
     "data": {
      "text/plain": [
       "[0.7645454545454546,\n",
       " 0.7719191919191919,\n",
       " 0.7771639042357275,\n",
       " 0.7734806629834254]"
      ]
     },
     "execution_count": 150,
     "metadata": {},
     "output_type": "execute_result"
    }
   ],
   "source": [
    "svc_scores"
   ]
  },
  {
   "cell_type": "markdown",
   "id": "bbafb166",
   "metadata": {},
   "source": [
    "# Decision Tree Classifier"
   ]
  },
  {
   "cell_type": "code",
   "execution_count": 151,
   "id": "5773f5a4",
   "metadata": {},
   "outputs": [],
   "source": [
    "dt_scores = []"
   ]
  },
  {
   "cell_type": "code",
   "execution_count": 152,
   "id": "859e5861",
   "metadata": {},
   "outputs": [],
   "source": [
    "dt_1 = DecisionTreeClassifier()"
   ]
  },
  {
   "cell_type": "code",
   "execution_count": 153,
   "id": "88623789",
   "metadata": {},
   "outputs": [
    {
     "data": {
      "text/plain": [
       "0.7036700336700337"
      ]
     },
     "execution_count": 153,
     "metadata": {},
     "output_type": "execute_result"
    }
   ],
   "source": [
    "score_dt_1 = cross_val_score(dt_1, X_train, y_train, \n",
    "                             cv = strat_k_fold, \n",
    "                             scoring = 'accuracy').mean()\n",
    "score_dt_1"
   ]
  },
  {
   "cell_type": "code",
   "execution_count": 154,
   "id": "54622c3c",
   "metadata": {},
   "outputs": [],
   "source": [
    "dt_scores.append(score_dt_1)"
   ]
  },
  {
   "cell_type": "markdown",
   "id": "c6e78efc",
   "metadata": {},
   "source": [
    "##### 1.Dimensionality Reduction"
   ]
  },
  {
   "cell_type": "code",
   "execution_count": 155,
   "id": "3ae7abe9",
   "metadata": {},
   "outputs": [],
   "source": [
    "dt_2 = DecisionTreeClassifier()"
   ]
  },
  {
   "cell_type": "code",
   "execution_count": 156,
   "id": "b4024f4f",
   "metadata": {},
   "outputs": [
    {
     "data": {
      "text/plain": [
       "RFECV(cv=StratifiedKFold(n_splits=10, random_state=10, shuffle=True),\n",
       "      estimator=DecisionTreeClassifier(), scoring='accuracy')"
      ]
     },
     "execution_count": 156,
     "metadata": {},
     "output_type": "execute_result"
    }
   ],
   "source": [
    "rfecv_dt = RFECV(estimator = dt_2, \n",
    "                 step = 1, \n",
    "                 cv = strat_k_fold, \n",
    "                 scoring = 'accuracy')\n",
    "rfecv_dt.fit(X_train, y_train)"
   ]
  },
  {
   "cell_type": "code",
   "execution_count": 157,
   "id": "70fa9bb0",
   "metadata": {},
   "outputs": [
    {
     "data": {
      "image/png": "[encoded data removed]",
      "text/plain": [
       "<Figure size 432x288 with 1 Axes>"
      ]
     },
     "metadata": {
      "needs_background": "light"
     },
     "output_type": "display_data"
    }
   ],
   "source": [
    "plt.plot(range(1, len(rfecv_log_reg.grid_scores_) + 1), rfecv_dt.grid_scores_)\n",
    "plt.show()"
   ]
  },
  {
   "cell_type": "code",
   "execution_count": 158,
   "id": "c8ebbb4b",
   "metadata": {},
   "outputs": [
    {
     "data": {
      "text/plain": [
       "array(['Pregnancies', 'Glucose', 'BloodPressure', 'Insulin', 'BMI',\n",
       "       'DiabetesPedigreeFunction', 'Age'], dtype=object)"
      ]
     },
     "execution_count": 158,
     "metadata": {},
     "output_type": "execute_result"
    }
   ],
   "source": [
    "new_features_dt = rfecv_dt.get_feature_names_out()\n",
    "new_features_dt"
   ]
  },
  {
   "cell_type": "code",
   "execution_count": 159,
   "id": "833c7042",
   "metadata": {},
   "outputs": [
    {
     "data": {
      "text/html": [
       "<div>\n",
       "<style scoped>\n",
       "    .dataframe tbody tr th:only-of-type {\n",
       "        vertical-align: middle;\n",
       "    }\n",
       "\n",
       "    .dataframe tbody tr th {\n",
       "        vertical-align: top;\n",
       "    }\n",
       "\n",
       "    .dataframe thead th {\n",
       "        text-align: right;\n",
       "    }\n",
       "</style>\n",
       "<table border=\"1\" class=\"dataframe\">\n",
       "  <thead>\n",
       "    <tr style=\"text-align: right;\">\n",
       "      <th></th>\n",
       "      <th>Pregnancies</th>\n",
       "      <th>Glucose</th>\n",
       "      <th>BloodPressure</th>\n",
       "      <th>Insulin</th>\n",
       "      <th>BMI</th>\n",
       "      <th>DiabetesPedigreeFunction</th>\n",
       "      <th>Age</th>\n",
       "    </tr>\n",
       "  </thead>\n",
       "  <tbody>\n",
       "    <tr>\n",
       "      <th>513</th>\n",
       "      <td>-0.555284</td>\n",
       "      <td>-1.005005</td>\n",
       "      <td>-0.840699</td>\n",
       "      <td>-0.722572</td>\n",
       "      <td>-0.750580</td>\n",
       "      <td>0.151271</td>\n",
       "      <td>-0.965431</td>\n",
       "    </tr>\n",
       "    <tr>\n",
       "      <th>645</th>\n",
       "      <td>-0.555284</td>\n",
       "      <td>1.142818</td>\n",
       "      <td>0.129287</td>\n",
       "      <td>3.040180</td>\n",
       "      <td>1.007073</td>\n",
       "      <td>-1.026137</td>\n",
       "      <td>-0.285001</td>\n",
       "    </tr>\n",
       "    <tr>\n",
       "      <th>305</th>\n",
       "      <td>-0.555284</td>\n",
       "      <td>-0.061265</td>\n",
       "      <td>0.290951</td>\n",
       "      <td>0.175357</td>\n",
       "      <td>1.050651</td>\n",
       "      <td>-0.782224</td>\n",
       "      <td>-0.370055</td>\n",
       "    </tr>\n",
       "    <tr>\n",
       "      <th>373</th>\n",
       "      <td>-0.555284</td>\n",
       "      <td>-0.549407</td>\n",
       "      <td>-1.164027</td>\n",
       "      <td>0.081288</td>\n",
       "      <td>0.353400</td>\n",
       "      <td>-0.752111</td>\n",
       "      <td>-0.710270</td>\n",
       "    </tr>\n",
       "    <tr>\n",
       "      <th>179</th>\n",
       "      <td>0.337445</td>\n",
       "      <td>0.264163</td>\n",
       "      <td>0.775944</td>\n",
       "      <td>-0.722572</td>\n",
       "      <td>0.963495</td>\n",
       "      <td>1.449130</td>\n",
       "      <td>0.310376</td>\n",
       "    </tr>\n",
       "    <tr>\n",
       "      <th>...</th>\n",
       "      <td>...</td>\n",
       "      <td>...</td>\n",
       "      <td>...</td>\n",
       "      <td>...</td>\n",
       "      <td>...</td>\n",
       "      <td>...</td>\n",
       "      <td>...</td>\n",
       "    </tr>\n",
       "    <tr>\n",
       "      <th>442</th>\n",
       "      <td>0.039869</td>\n",
       "      <td>-0.158893</td>\n",
       "      <td>-0.679035</td>\n",
       "      <td>0.303633</td>\n",
       "      <td>0.106458</td>\n",
       "      <td>-0.737055</td>\n",
       "      <td>-0.795323</td>\n",
       "    </tr>\n",
       "    <tr>\n",
       "      <th>234</th>\n",
       "      <td>-0.257708</td>\n",
       "      <td>-1.558233</td>\n",
       "      <td>-0.355706</td>\n",
       "      <td>-0.337745</td>\n",
       "      <td>-0.401954</td>\n",
       "      <td>-0.547345</td>\n",
       "      <td>-0.880377</td>\n",
       "    </tr>\n",
       "    <tr>\n",
       "      <th>90</th>\n",
       "      <td>-0.852861</td>\n",
       "      <td>-1.362976</td>\n",
       "      <td>-1.406524</td>\n",
       "      <td>-0.722572</td>\n",
       "      <td>-1.941716</td>\n",
       "      <td>-0.652739</td>\n",
       "      <td>-1.050485</td>\n",
       "    </tr>\n",
       "    <tr>\n",
       "      <th>241</th>\n",
       "      <td>0.039869</td>\n",
       "      <td>-1.005005</td>\n",
       "      <td>-0.194042</td>\n",
       "      <td>0.029978</td>\n",
       "      <td>0.091931</td>\n",
       "      <td>-0.086620</td>\n",
       "      <td>-0.965431</td>\n",
       "    </tr>\n",
       "    <tr>\n",
       "      <th>660</th>\n",
       "      <td>1.825328</td>\n",
       "      <td>1.305532</td>\n",
       "      <td>0.937608</td>\n",
       "      <td>-0.722572</td>\n",
       "      <td>-0.692475</td>\n",
       "      <td>-0.881596</td>\n",
       "      <td>1.756290</td>\n",
       "    </tr>\n",
       "  </tbody>\n",
       "</table>\n",
       "<p>543 rows × 7 columns</p>\n",
       "</div>"
      ],
      "text/plain": [
       "     Pregnancies   Glucose  BloodPressure   Insulin       BMI  \\\n",
       "513    -0.555284 -1.005005      -0.840699 -0.722572 -0.750580   \n",
       "645    -0.555284  1.142818       0.129287  3.040180  1.007073   \n",
       "305    -0.555284 -0.061265       0.290951  0.175357  1.050651   \n",
       "373    -0.555284 -0.549407      -1.164027  0.081288  0.353400   \n",
       "179     0.337445  0.264163       0.775944 -0.722572  0.963495   \n",
       "..           ...       ...            ...       ...       ...   \n",
       "442     0.039869 -0.158893      -0.679035  0.303633  0.106458   \n",
       "234    -0.257708 -1.558233      -0.355706 -0.337745 -0.401954   \n",
       "90     -0.852861 -1.362976      -1.406524 -0.722572 -1.941716   \n",
       "241     0.039869 -1.005005      -0.194042  0.029978  0.091931   \n",
       "660     1.825328  1.305532       0.937608 -0.722572 -0.692475   \n",
       "\n",
       "     DiabetesPedigreeFunction       Age  \n",
       "513                  0.151271 -0.965431  \n",
       "645                 -1.026137 -0.285001  \n",
       "305                 -0.782224 -0.370055  \n",
       "373                 -0.752111 -0.710270  \n",
       "179                  1.449130  0.310376  \n",
       "..                        ...       ...  \n",
       "442                 -0.737055 -0.795323  \n",
       "234                 -0.547345 -0.880377  \n",
       "90                  -0.652739 -1.050485  \n",
       "241                 -0.086620 -0.965431  \n",
       "660                 -0.881596  1.756290  \n",
       "\n",
       "[543 rows x 7 columns]"
      ]
     },
     "execution_count": 159,
     "metadata": {},
     "output_type": "execute_result"
    }
   ],
   "source": [
    "X_new_dt = X_train[new_features_dt]\n",
    "X_new_dt"
   ]
  },
  {
   "cell_type": "code",
   "execution_count": 160,
   "id": "2009daed",
   "metadata": {},
   "outputs": [
    {
     "data": {
      "text/plain": [
       "0.6872390572390572"
      ]
     },
     "execution_count": 160,
     "metadata": {},
     "output_type": "execute_result"
    }
   ],
   "source": [
    "score_dt_2 = cross_val_score(dt_2, X_new_dt, y_train, cv = strat_k_fold, scoring = 'accuracy').mean()\n",
    "score_dt_2"
   ]
  },
  {
   "cell_type": "code",
   "execution_count": 161,
   "id": "01c98397",
   "metadata": {},
   "outputs": [],
   "source": [
    "dt_scores.append(score_dt_2)"
   ]
  },
  {
   "cell_type": "markdown",
   "id": "f670c759",
   "metadata": {},
   "source": [
    "##### 2.Hyper Parameter Tuning"
   ]
  },
  {
   "cell_type": "code",
   "execution_count": 165,
   "id": "4e50cdfd",
   "metadata": {},
   "outputs": [],
   "source": [
    "param_grid_dt={\"splitter\":[\"best\",\"random\"],\n",
    "               \"criterion\" : [\"gini\", \"entropy\"],\n",
    "            \"max_depth\" : range(2,11),\n",
    "           \"min_samples_leaf\": range(1,11),\n",
    "           \"max_features\":[\"auto\",\"log2\",\"sqrt\",None],\n",
    "           \"max_leaf_nodes\": range(10,110,10)}"
   ]
  },
  {
   "cell_type": "code",
   "execution_count": 166,
   "id": "0936ba51",
   "metadata": {},
   "outputs": [
    {
     "data": {
      "text/plain": [
       "GridSearchCV(cv=StratifiedKFold(n_splits=10, random_state=10, shuffle=True),\n",
       "             estimator=DecisionTreeClassifier(),\n",
       "             param_grid={'criterion': ['gini', 'entropy'],\n",
       "                         'max_depth': range(2, 11),\n",
       "                         'max_features': ['auto', 'log2', 'sqrt', None],\n",
       "                         'max_leaf_nodes': range(10, 110, 10),\n",
       "                         'min_samples_leaf': range(1, 11),\n",
       "                         'splitter': ['best', 'random']},\n",
       "             scoring='accuracy')"
      ]
     },
     "execution_count": 166,
     "metadata": {},
     "output_type": "execute_result"
    }
   ],
   "source": [
    "grid_dt = GridSearchCV(DecisionTreeClassifier(), \n",
    "                       param_grid = param_grid_dt, \n",
    "                       cv = strat_k_fold, \n",
    "                       scoring = 'accuracy')\n",
    "grid_dt.fit(X_new_dt, y_train)"
   ]
  },
  {
   "cell_type": "code",
   "execution_count": 167,
   "id": "bb1217f2",
   "metadata": {},
   "outputs": [
    {
     "data": {
      "text/plain": [
       "{'criterion': 'gini',\n",
       " 'max_depth': 5,\n",
       " 'max_features': 'log2',\n",
       " 'max_leaf_nodes': 50,\n",
       " 'min_samples_leaf': 7,\n",
       " 'splitter': 'best'}"
      ]
     },
     "execution_count": 167,
     "metadata": {},
     "output_type": "execute_result"
    }
   ],
   "source": [
    "grid_dt.best_params_"
   ]
  },
  {
   "cell_type": "code",
   "execution_count": 168,
   "id": "0dfbd41d",
   "metadata": {},
   "outputs": [
    {
     "data": {
      "text/plain": [
       "DecisionTreeClassifier(max_depth=5, max_features='log2', max_leaf_nodes=50,\n",
       "                       min_samples_leaf=7)"
      ]
     },
     "execution_count": 168,
     "metadata": {},
     "output_type": "execute_result"
    }
   ],
   "source": [
    "grid_dt.best_estimator_"
   ]
  },
  {
   "cell_type": "markdown",
   "id": "9855e461",
   "metadata": {},
   "source": [
    "##### 3.Final Model "
   ]
  },
  {
   "cell_type": "code",
   "execution_count": 169,
   "id": "70d278f3",
   "metadata": {},
   "outputs": [],
   "source": [
    "dt_3 = DecisionTreeClassifier(max_depth=4, max_leaf_nodes=10, min_weight_fraction_leaf=0.1)"
   ]
  },
  {
   "cell_type": "code",
   "execution_count": 170,
   "id": "6ec4318c",
   "metadata": {},
   "outputs": [
    {
     "data": {
      "text/plain": [
       "DecisionTreeClassifier(max_depth=4, max_leaf_nodes=10,\n",
       "                       min_weight_fraction_leaf=0.1)"
      ]
     },
     "execution_count": 170,
     "metadata": {},
     "output_type": "execute_result"
    }
   ],
   "source": [
    "dt_3.fit(X_new_dt, y_train)"
   ]
  },
  {
   "cell_type": "code",
   "execution_count": 171,
   "id": "c16f9154",
   "metadata": {},
   "outputs": [
    {
     "data": {
      "text/plain": [
       "0.7790055248618785"
      ]
     },
     "execution_count": 171,
     "metadata": {},
     "output_type": "execute_result"
    }
   ],
   "source": [
    "y_pred_5 = dt_3.predict(X_new_dt)\n",
    "score_dt_3 = accuracy_score(y_train, y_pred_5)\n",
    "score_dt_3"
   ]
  },
  {
   "cell_type": "code",
   "execution_count": 172,
   "id": "a84020fe",
   "metadata": {},
   "outputs": [],
   "source": [
    "dt_scores.append(score_dt_3)"
   ]
  },
  {
   "cell_type": "markdown",
   "id": "2c0a61aa",
   "metadata": {},
   "source": [
    "##### 4.Testing"
   ]
  },
  {
   "cell_type": "code",
   "execution_count": 173,
   "id": "ce20d567",
   "metadata": {},
   "outputs": [
    {
     "data": {
      "text/html": [
       "<div>\n",
       "<style scoped>\n",
       "    .dataframe tbody tr th:only-of-type {\n",
       "        vertical-align: middle;\n",
       "    }\n",
       "\n",
       "    .dataframe tbody tr th {\n",
       "        vertical-align: top;\n",
       "    }\n",
       "\n",
       "    .dataframe thead th {\n",
       "        text-align: right;\n",
       "    }\n",
       "</style>\n",
       "<table border=\"1\" class=\"dataframe\">\n",
       "  <thead>\n",
       "    <tr style=\"text-align: right;\">\n",
       "      <th></th>\n",
       "      <th>Pregnancies</th>\n",
       "      <th>Glucose</th>\n",
       "      <th>BloodPressure</th>\n",
       "      <th>Insulin</th>\n",
       "      <th>BMI</th>\n",
       "      <th>DiabetesPedigreeFunction</th>\n",
       "      <th>Age</th>\n",
       "    </tr>\n",
       "  </thead>\n",
       "  <tbody>\n",
       "    <tr>\n",
       "      <th>625</th>\n",
       "      <td>0.039869</td>\n",
       "      <td>-1.037548</td>\n",
       "      <td>1.260937</td>\n",
       "      <td>-0.260780</td>\n",
       "      <td>0.760130</td>\n",
       "      <td>-0.339567</td>\n",
       "      <td>-0.370055</td>\n",
       "    </tr>\n",
       "    <tr>\n",
       "      <th>141</th>\n",
       "      <td>0.337445</td>\n",
       "      <td>-0.516864</td>\n",
       "      <td>0.775944</td>\n",
       "      <td>-0.722572</td>\n",
       "      <td>1.021599</td>\n",
       "      <td>-0.568424</td>\n",
       "      <td>0.395430</td>\n",
       "    </tr>\n",
       "    <tr>\n",
       "      <th>626</th>\n",
       "      <td>-1.150438</td>\n",
       "      <td>0.101449</td>\n",
       "      <td>-0.355706</td>\n",
       "      <td>-0.722572</td>\n",
       "      <td>-1.128257</td>\n",
       "      <td>-0.809325</td>\n",
       "      <td>-1.050485</td>\n",
       "    </tr>\n",
       "    <tr>\n",
       "      <th>696</th>\n",
       "      <td>-0.257708</td>\n",
       "      <td>1.533331</td>\n",
       "      <td>0.129287</td>\n",
       "      <td>0.346392</td>\n",
       "      <td>-0.372902</td>\n",
       "      <td>-0.622627</td>\n",
       "      <td>-0.199947</td>\n",
       "    </tr>\n",
       "    <tr>\n",
       "      <th>258</th>\n",
       "      <td>-0.852861</td>\n",
       "      <td>2.314358</td>\n",
       "      <td>-1.810684</td>\n",
       "      <td>2.484319</td>\n",
       "      <td>-0.953944</td>\n",
       "      <td>0.542736</td>\n",
       "      <td>-0.795323</td>\n",
       "    </tr>\n",
       "    <tr>\n",
       "      <th>...</th>\n",
       "      <td>...</td>\n",
       "      <td>...</td>\n",
       "      <td>...</td>\n",
       "      <td>...</td>\n",
       "      <td>...</td>\n",
       "      <td>...</td>\n",
       "      <td>...</td>\n",
       "    </tr>\n",
       "    <tr>\n",
       "      <th>691</th>\n",
       "      <td>2.718058</td>\n",
       "      <td>1.175361</td>\n",
       "      <td>3.362572</td>\n",
       "      <td>-0.722572</td>\n",
       "      <td>1.428328</td>\n",
       "      <td>-0.655751</td>\n",
       "      <td>0.905752</td>\n",
       "    </tr>\n",
       "    <tr>\n",
       "      <th>302</th>\n",
       "      <td>0.337445</td>\n",
       "      <td>-1.460604</td>\n",
       "      <td>0.775944</td>\n",
       "      <td>-0.363400</td>\n",
       "      <td>0.484135</td>\n",
       "      <td>-0.959889</td>\n",
       "      <td>0.140268</td>\n",
       "    </tr>\n",
       "    <tr>\n",
       "      <th>439</th>\n",
       "      <td>0.635022</td>\n",
       "      <td>-0.484321</td>\n",
       "      <td>1.260937</td>\n",
       "      <td>-0.722572</td>\n",
       "      <td>0.629395</td>\n",
       "      <td>0.759548</td>\n",
       "      <td>-0.199947</td>\n",
       "    </tr>\n",
       "    <tr>\n",
       "      <th>552</th>\n",
       "      <td>0.635022</td>\n",
       "      <td>-0.256522</td>\n",
       "      <td>1.260937</td>\n",
       "      <td>-0.722572</td>\n",
       "      <td>-0.677949</td>\n",
       "      <td>-0.685863</td>\n",
       "      <td>2.776936</td>\n",
       "    </tr>\n",
       "    <tr>\n",
       "      <th>277</th>\n",
       "      <td>-1.150438</td>\n",
       "      <td>-0.581949</td>\n",
       "      <td>-0.679035</td>\n",
       "      <td>0.269426</td>\n",
       "      <td>-0.677949</td>\n",
       "      <td>-0.062530</td>\n",
       "      <td>-0.880377</td>\n",
       "    </tr>\n",
       "  </tbody>\n",
       "</table>\n",
       "<p>181 rows × 7 columns</p>\n",
       "</div>"
      ],
      "text/plain": [
       "     Pregnancies   Glucose  BloodPressure   Insulin       BMI  \\\n",
       "625     0.039869 -1.037548       1.260937 -0.260780  0.760130   \n",
       "141     0.337445 -0.516864       0.775944 -0.722572  1.021599   \n",
       "626    -1.150438  0.101449      -0.355706 -0.722572 -1.128257   \n",
       "696    -0.257708  1.533331       0.129287  0.346392 -0.372902   \n",
       "258    -0.852861  2.314358      -1.810684  2.484319 -0.953944   \n",
       "..           ...       ...            ...       ...       ...   \n",
       "691     2.718058  1.175361       3.362572 -0.722572  1.428328   \n",
       "302     0.337445 -1.460604       0.775944 -0.363400  0.484135   \n",
       "439     0.635022 -0.484321       1.260937 -0.722572  0.629395   \n",
       "552     0.635022 -0.256522       1.260937 -0.722572 -0.677949   \n",
       "277    -1.150438 -0.581949      -0.679035  0.269426 -0.677949   \n",
       "\n",
       "     DiabetesPedigreeFunction       Age  \n",
       "625                 -0.339567 -0.370055  \n",
       "141                 -0.568424  0.395430  \n",
       "626                 -0.809325 -1.050485  \n",
       "696                 -0.622627 -0.199947  \n",
       "258                  0.542736 -0.795323  \n",
       "..                        ...       ...  \n",
       "691                 -0.655751  0.905752  \n",
       "302                 -0.959889  0.140268  \n",
       "439                  0.759548 -0.199947  \n",
       "552                 -0.685863  2.776936  \n",
       "277                 -0.062530 -0.880377  \n",
       "\n",
       "[181 rows x 7 columns]"
      ]
     },
     "execution_count": 173,
     "metadata": {},
     "output_type": "execute_result"
    }
   ],
   "source": [
    "X_test_dt = X_test[new_features_dt]\n",
    "X_test_dt"
   ]
  },
  {
   "cell_type": "code",
   "execution_count": 174,
   "id": "af91ecd1",
   "metadata": {},
   "outputs": [
    {
     "data": {
      "text/plain": [
       "0.8011049723756906"
      ]
     },
     "execution_count": 174,
     "metadata": {},
     "output_type": "execute_result"
    }
   ],
   "source": [
    "y_pred_6 = dt_3.predict(X_test_dt)\n",
    "score_dt_4 = accuracy_score(y_test, y_pred_6)\n",
    "score_dt_4"
   ]
  },
  {
   "cell_type": "code",
   "execution_count": 175,
   "id": "643300dc",
   "metadata": {},
   "outputs": [],
   "source": [
    "dt_scores.append(score_dt_4)"
   ]
  },
  {
   "cell_type": "code",
   "execution_count": 176,
   "id": "d31fe000",
   "metadata": {},
   "outputs": [
    {
     "data": {
      "text/plain": [
       "[0.7036700336700337,\n",
       " 0.6872390572390572,\n",
       " 0.7790055248618785,\n",
       " 0.8011049723756906]"
      ]
     },
     "execution_count": 176,
     "metadata": {},
     "output_type": "execute_result"
    }
   ],
   "source": [
    "dt_scores"
   ]
  },
  {
   "cell_type": "markdown",
   "id": "365c30f0",
   "metadata": {},
   "source": [
    "# Random Forest Classifier"
   ]
  },
  {
   "cell_type": "code",
   "execution_count": 177,
   "id": "3e9ac46c",
   "metadata": {},
   "outputs": [],
   "source": [
    "rf_scores = []"
   ]
  },
  {
   "cell_type": "code",
   "execution_count": 178,
   "id": "a7c764fe",
   "metadata": {},
   "outputs": [],
   "source": [
    "rf_1 = RandomForestClassifier()"
   ]
  },
  {
   "cell_type": "code",
   "execution_count": 179,
   "id": "ee091aad",
   "metadata": {},
   "outputs": [
    {
     "data": {
      "text/plain": [
       "0.7516498316498317"
      ]
     },
     "execution_count": 179,
     "metadata": {},
     "output_type": "execute_result"
    }
   ],
   "source": [
    "score_rf_1 = cross_val_score(rf_1, X_train, y_train, \n",
    "                             cv = strat_k_fold, \n",
    "                             scoring = 'accuracy').mean()\n",
    "score_rf_1"
   ]
  },
  {
   "cell_type": "code",
   "execution_count": 180,
   "id": "8a001ff2",
   "metadata": {},
   "outputs": [],
   "source": [
    "rf_scores.append(score_rf_1)"
   ]
  },
  {
   "cell_type": "markdown",
   "id": "08240efe",
   "metadata": {},
   "source": [
    "##### 1.Dimensionality Reduction"
   ]
  },
  {
   "cell_type": "code",
   "execution_count": 181,
   "id": "5769b5d2",
   "metadata": {},
   "outputs": [
    {
     "data": {
      "text/plain": [
       "RFECV(cv=StratifiedKFold(n_splits=10, random_state=10, shuffle=True),\n",
       "      estimator=RandomForestClassifier(), scoring='accuracy')"
      ]
     },
     "execution_count": 181,
     "metadata": {},
     "output_type": "execute_result"
    }
   ],
   "source": [
    "rfecv_rf = RFECV(estimator = RandomForestClassifier(), \n",
    "                 step = 1, \n",
    "                 cv = strat_k_fold, \n",
    "                 scoring = 'accuracy')\n",
    "rfecv_rf.fit(X_train, y_train)"
   ]
  },
  {
   "cell_type": "code",
   "execution_count": 182,
   "id": "4076553c",
   "metadata": {},
   "outputs": [
    {
     "data": {
      "image/png": "[encoded data removed]",
      "text/plain": [
       "<Figure size 432x288 with 1 Axes>"
      ]
     },
     "metadata": {
      "needs_background": "light"
     },
     "output_type": "display_data"
    }
   ],
   "source": [
    "plt.plot(range(1, len(rfecv_log_reg.grid_scores_) + 1), rfecv_rf.grid_scores_)\n",
    "plt.show()"
   ]
  },
  {
   "cell_type": "code",
   "execution_count": 183,
   "id": "249455ab",
   "metadata": {},
   "outputs": [
    {
     "data": {
      "text/plain": [
       "array(['Pregnancies', 'Glucose', 'BloodPressure', 'BMI',\n",
       "       'DiabetesPedigreeFunction', 'Age'], dtype=object)"
      ]
     },
     "execution_count": 183,
     "metadata": {},
     "output_type": "execute_result"
    }
   ],
   "source": [
    "new_features_rf = rfecv_rf.get_feature_names_out()\n",
    "new_features_rf"
   ]
  },
  {
   "cell_type": "code",
   "execution_count": 184,
   "id": "974eed68",
   "metadata": {},
   "outputs": [
    {
     "data": {
      "text/html": [
       "<div>\n",
       "<style scoped>\n",
       "    .dataframe tbody tr th:only-of-type {\n",
       "        vertical-align: middle;\n",
       "    }\n",
       "\n",
       "    .dataframe tbody tr th {\n",
       "        vertical-align: top;\n",
       "    }\n",
       "\n",
       "    .dataframe thead th {\n",
       "        text-align: right;\n",
       "    }\n",
       "</style>\n",
       "<table border=\"1\" class=\"dataframe\">\n",
       "  <thead>\n",
       "    <tr style=\"text-align: right;\">\n",
       "      <th></th>\n",
       "      <th>Pregnancies</th>\n",
       "      <th>Glucose</th>\n",
       "      <th>BloodPressure</th>\n",
       "      <th>BMI</th>\n",
       "      <th>DiabetesPedigreeFunction</th>\n",
       "      <th>Age</th>\n",
       "    </tr>\n",
       "  </thead>\n",
       "  <tbody>\n",
       "    <tr>\n",
       "      <th>513</th>\n",
       "      <td>-0.555284</td>\n",
       "      <td>-1.005005</td>\n",
       "      <td>-0.840699</td>\n",
       "      <td>-0.750580</td>\n",
       "      <td>0.151271</td>\n",
       "      <td>-0.965431</td>\n",
       "    </tr>\n",
       "    <tr>\n",
       "      <th>645</th>\n",
       "      <td>-0.555284</td>\n",
       "      <td>1.142818</td>\n",
       "      <td>0.129287</td>\n",
       "      <td>1.007073</td>\n",
       "      <td>-1.026137</td>\n",
       "      <td>-0.285001</td>\n",
       "    </tr>\n",
       "    <tr>\n",
       "      <th>305</th>\n",
       "      <td>-0.555284</td>\n",
       "      <td>-0.061265</td>\n",
       "      <td>0.290951</td>\n",
       "      <td>1.050651</td>\n",
       "      <td>-0.782224</td>\n",
       "      <td>-0.370055</td>\n",
       "    </tr>\n",
       "    <tr>\n",
       "      <th>373</th>\n",
       "      <td>-0.555284</td>\n",
       "      <td>-0.549407</td>\n",
       "      <td>-1.164027</td>\n",
       "      <td>0.353400</td>\n",
       "      <td>-0.752111</td>\n",
       "      <td>-0.710270</td>\n",
       "    </tr>\n",
       "    <tr>\n",
       "      <th>179</th>\n",
       "      <td>0.337445</td>\n",
       "      <td>0.264163</td>\n",
       "      <td>0.775944</td>\n",
       "      <td>0.963495</td>\n",
       "      <td>1.449130</td>\n",
       "      <td>0.310376</td>\n",
       "    </tr>\n",
       "    <tr>\n",
       "      <th>...</th>\n",
       "      <td>...</td>\n",
       "      <td>...</td>\n",
       "      <td>...</td>\n",
       "      <td>...</td>\n",
       "      <td>...</td>\n",
       "      <td>...</td>\n",
       "    </tr>\n",
       "    <tr>\n",
       "      <th>442</th>\n",
       "      <td>0.039869</td>\n",
       "      <td>-0.158893</td>\n",
       "      <td>-0.679035</td>\n",
       "      <td>0.106458</td>\n",
       "      <td>-0.737055</td>\n",
       "      <td>-0.795323</td>\n",
       "    </tr>\n",
       "    <tr>\n",
       "      <th>234</th>\n",
       "      <td>-0.257708</td>\n",
       "      <td>-1.558233</td>\n",
       "      <td>-0.355706</td>\n",
       "      <td>-0.401954</td>\n",
       "      <td>-0.547345</td>\n",
       "      <td>-0.880377</td>\n",
       "    </tr>\n",
       "    <tr>\n",
       "      <th>90</th>\n",
       "      <td>-0.852861</td>\n",
       "      <td>-1.362976</td>\n",
       "      <td>-1.406524</td>\n",
       "      <td>-1.941716</td>\n",
       "      <td>-0.652739</td>\n",
       "      <td>-1.050485</td>\n",
       "    </tr>\n",
       "    <tr>\n",
       "      <th>241</th>\n",
       "      <td>0.039869</td>\n",
       "      <td>-1.005005</td>\n",
       "      <td>-0.194042</td>\n",
       "      <td>0.091931</td>\n",
       "      <td>-0.086620</td>\n",
       "      <td>-0.965431</td>\n",
       "    </tr>\n",
       "    <tr>\n",
       "      <th>660</th>\n",
       "      <td>1.825328</td>\n",
       "      <td>1.305532</td>\n",
       "      <td>0.937608</td>\n",
       "      <td>-0.692475</td>\n",
       "      <td>-0.881596</td>\n",
       "      <td>1.756290</td>\n",
       "    </tr>\n",
       "  </tbody>\n",
       "</table>\n",
       "<p>543 rows × 6 columns</p>\n",
       "</div>"
      ],
      "text/plain": [
       "     Pregnancies   Glucose  BloodPressure       BMI  DiabetesPedigreeFunction  \\\n",
       "513    -0.555284 -1.005005      -0.840699 -0.750580                  0.151271   \n",
       "645    -0.555284  1.142818       0.129287  1.007073                 -1.026137   \n",
       "305    -0.555284 -0.061265       0.290951  1.050651                 -0.782224   \n",
       "373    -0.555284 -0.549407      -1.164027  0.353400                 -0.752111   \n",
       "179     0.337445  0.264163       0.775944  0.963495                  1.449130   \n",
       "..           ...       ...            ...       ...                       ...   \n",
       "442     0.039869 -0.158893      -0.679035  0.106458                 -0.737055   \n",
       "234    -0.257708 -1.558233      -0.355706 -0.401954                 -0.547345   \n",
       "90     -0.852861 -1.362976      -1.406524 -1.941716                 -0.652739   \n",
       "241     0.039869 -1.005005      -0.194042  0.091931                 -0.086620   \n",
       "660     1.825328  1.305532       0.937608 -0.692475                 -0.881596   \n",
       "\n",
       "          Age  \n",
       "513 -0.965431  \n",
       "645 -0.285001  \n",
       "305 -0.370055  \n",
       "373 -0.710270  \n",
       "179  0.310376  \n",
       "..        ...  \n",
       "442 -0.795323  \n",
       "234 -0.880377  \n",
       "90  -1.050485  \n",
       "241 -0.965431  \n",
       "660  1.756290  \n",
       "\n",
       "[543 rows x 6 columns]"
      ]
     },
     "execution_count": 184,
     "metadata": {},
     "output_type": "execute_result"
    }
   ],
   "source": [
    "X_new_rf = X_train[new_features_rf]\n",
    "X_new_rf"
   ]
  },
  {
   "cell_type": "code",
   "execution_count": 185,
   "id": "97c95bc9",
   "metadata": {},
   "outputs": [
    {
     "data": {
      "text/plain": [
       "0.7535353535353535"
      ]
     },
     "execution_count": 185,
     "metadata": {},
     "output_type": "execute_result"
    }
   ],
   "source": [
    "score_rf_2 = cross_val_score(RandomForestClassifier(), X_new_rf, y_train, cv = strat_k_fold, scoring = 'accuracy').mean()\n",
    "score_rf_2"
   ]
  },
  {
   "cell_type": "code",
   "execution_count": 186,
   "id": "a6cf7ac7",
   "metadata": {},
   "outputs": [],
   "source": [
    "rf_scores.append(score_rf_2)"
   ]
  },
  {
   "cell_type": "markdown",
   "id": "348b69e4",
   "metadata": {},
   "source": [
    "##### 2.Hyper Parameter Tuning"
   ]
  },
  {
   "cell_type": "code",
   "execution_count": 187,
   "id": "c02c3bad",
   "metadata": {},
   "outputs": [],
   "source": [
    "param_grid_rf ={\"criterion\" : [\"gini\", \"entropy\"],\n",
    "            \"max_depth\" : range(2,6),\n",
    "           \"min_samples_leaf\": range(1,6),\n",
    "           \"max_features\":[\"auto\",\"log2\",\"sqrt\",None],\n",
    "           \"max_leaf_nodes\": range(10,40,10),\n",
    "              \"n_estimators\" : range(10,40,10)}"
   ]
  },
  {
   "cell_type": "code",
   "execution_count": 188,
   "id": "8fe74341",
   "metadata": {},
   "outputs": [
    {
     "data": {
      "text/plain": [
       "GridSearchCV(cv=StratifiedKFold(n_splits=10, random_state=10, shuffle=True),\n",
       "             estimator=RandomForestClassifier(),\n",
       "             param_grid={'criterion': ['gini', 'entropy'],\n",
       "                         'max_depth': range(2, 6),\n",
       "                         'max_features': ['auto', 'log2', 'sqrt', None],\n",
       "                         'max_leaf_nodes': range(10, 40, 10),\n",
       "                         'min_samples_leaf': range(1, 6),\n",
       "                         'n_estimators': range(10, 40, 10)},\n",
       "             scoring='accuracy')"
      ]
     },
     "execution_count": 188,
     "metadata": {},
     "output_type": "execute_result"
    }
   ],
   "source": [
    "grid_rf = GridSearchCV(estimator = RandomForestClassifier(), \n",
    "                       param_grid = param_grid_rf,\n",
    "                       cv = strat_k_fold, \n",
    "                       scoring = 'accuracy')\n",
    "grid_rf.fit(X_new_rf, y_train)"
   ]
  },
  {
   "cell_type": "code",
   "execution_count": 189,
   "id": "e92601ac",
   "metadata": {},
   "outputs": [
    {
     "data": {
      "text/plain": [
       "{'criterion': 'gini',\n",
       " 'max_depth': 4,\n",
       " 'max_features': 'sqrt',\n",
       " 'max_leaf_nodes': 20,\n",
       " 'min_samples_leaf': 4,\n",
       " 'n_estimators': 10}"
      ]
     },
     "execution_count": 189,
     "metadata": {},
     "output_type": "execute_result"
    }
   ],
   "source": [
    "grid_rf.best_params_"
   ]
  },
  {
   "cell_type": "code",
   "execution_count": 190,
   "id": "f622f372",
   "metadata": {},
   "outputs": [
    {
     "data": {
      "text/plain": [
       "RandomForestClassifier(max_depth=4, max_features='sqrt', max_leaf_nodes=20,\n",
       "                       min_samples_leaf=4, n_estimators=10)"
      ]
     },
     "execution_count": 190,
     "metadata": {},
     "output_type": "execute_result"
    }
   ],
   "source": [
    "grid_rf.best_estimator_"
   ]
  },
  {
   "cell_type": "markdown",
   "id": "9fc24c54",
   "metadata": {},
   "source": [
    "##### 3.Final Model"
   ]
  },
  {
   "cell_type": "code",
   "execution_count": 191,
   "id": "1092e351",
   "metadata": {},
   "outputs": [],
   "source": [
    "rf_2 = RandomForestClassifier(criterion='entropy', \n",
    "                              max_depth=5, \n",
    "                              max_leaf_nodes=20, \n",
    "                              min_samples_leaf=4, \n",
    "                              n_estimators=30)"
   ]
  },
  {
   "cell_type": "code",
   "execution_count": 192,
   "id": "2d25640e",
   "metadata": {},
   "outputs": [
    {
     "data": {
      "text/plain": [
       "RandomForestClassifier(criterion='entropy', max_depth=5, max_leaf_nodes=20,\n",
       "                       min_samples_leaf=4, n_estimators=30)"
      ]
     },
     "execution_count": 192,
     "metadata": {},
     "output_type": "execute_result"
    }
   ],
   "source": [
    "rf_2.fit(X_new_rf, y_train)"
   ]
  },
  {
   "cell_type": "code",
   "execution_count": 193,
   "id": "925740f6",
   "metadata": {},
   "outputs": [
    {
     "data": {
      "text/plain": [
       "0.8379373848987108"
      ]
     },
     "execution_count": 193,
     "metadata": {},
     "output_type": "execute_result"
    }
   ],
   "source": [
    "y_pred_7 = rf_2.predict(X_new_rf)\n",
    "score_rf_3 = accuracy_score(y_train, y_pred_7)\n",
    "score_rf_3"
   ]
  },
  {
   "cell_type": "code",
   "execution_count": 194,
   "id": "51c7b134",
   "metadata": {},
   "outputs": [],
   "source": [
    "rf_scores.append(score_rf_3)"
   ]
  },
  {
   "cell_type": "markdown",
   "id": "798506a9",
   "metadata": {},
   "source": [
    "##### 4.Testing"
   ]
  },
  {
   "cell_type": "code",
   "execution_count": 195,
   "id": "ed8af0af",
   "metadata": {},
   "outputs": [
    {
     "data": {
      "text/html": [
       "<div>\n",
       "<style scoped>\n",
       "    .dataframe tbody tr th:only-of-type {\n",
       "        vertical-align: middle;\n",
       "    }\n",
       "\n",
       "    .dataframe tbody tr th {\n",
       "        vertical-align: top;\n",
       "    }\n",
       "\n",
       "    .dataframe thead th {\n",
       "        text-align: right;\n",
       "    }\n",
       "</style>\n",
       "<table border=\"1\" class=\"dataframe\">\n",
       "  <thead>\n",
       "    <tr style=\"text-align: right;\">\n",
       "      <th></th>\n",
       "      <th>Pregnancies</th>\n",
       "      <th>Glucose</th>\n",
       "      <th>BloodPressure</th>\n",
       "      <th>BMI</th>\n",
       "      <th>DiabetesPedigreeFunction</th>\n",
       "      <th>Age</th>\n",
       "    </tr>\n",
       "  </thead>\n",
       "  <tbody>\n",
       "    <tr>\n",
       "      <th>625</th>\n",
       "      <td>0.039869</td>\n",
       "      <td>-1.037548</td>\n",
       "      <td>1.260937</td>\n",
       "      <td>0.760130</td>\n",
       "      <td>-0.339567</td>\n",
       "      <td>-0.370055</td>\n",
       "    </tr>\n",
       "    <tr>\n",
       "      <th>141</th>\n",
       "      <td>0.337445</td>\n",
       "      <td>-0.516864</td>\n",
       "      <td>0.775944</td>\n",
       "      <td>1.021599</td>\n",
       "      <td>-0.568424</td>\n",
       "      <td>0.395430</td>\n",
       "    </tr>\n",
       "    <tr>\n",
       "      <th>626</th>\n",
       "      <td>-1.150438</td>\n",
       "      <td>0.101449</td>\n",
       "      <td>-0.355706</td>\n",
       "      <td>-1.128257</td>\n",
       "      <td>-0.809325</td>\n",
       "      <td>-1.050485</td>\n",
       "    </tr>\n",
       "    <tr>\n",
       "      <th>696</th>\n",
       "      <td>-0.257708</td>\n",
       "      <td>1.533331</td>\n",
       "      <td>0.129287</td>\n",
       "      <td>-0.372902</td>\n",
       "      <td>-0.622627</td>\n",
       "      <td>-0.199947</td>\n",
       "    </tr>\n",
       "    <tr>\n",
       "      <th>258</th>\n",
       "      <td>-0.852861</td>\n",
       "      <td>2.314358</td>\n",
       "      <td>-1.810684</td>\n",
       "      <td>-0.953944</td>\n",
       "      <td>0.542736</td>\n",
       "      <td>-0.795323</td>\n",
       "    </tr>\n",
       "    <tr>\n",
       "      <th>...</th>\n",
       "      <td>...</td>\n",
       "      <td>...</td>\n",
       "      <td>...</td>\n",
       "      <td>...</td>\n",
       "      <td>...</td>\n",
       "      <td>...</td>\n",
       "    </tr>\n",
       "    <tr>\n",
       "      <th>691</th>\n",
       "      <td>2.718058</td>\n",
       "      <td>1.175361</td>\n",
       "      <td>3.362572</td>\n",
       "      <td>1.428328</td>\n",
       "      <td>-0.655751</td>\n",
       "      <td>0.905752</td>\n",
       "    </tr>\n",
       "    <tr>\n",
       "      <th>302</th>\n",
       "      <td>0.337445</td>\n",
       "      <td>-1.460604</td>\n",
       "      <td>0.775944</td>\n",
       "      <td>0.484135</td>\n",
       "      <td>-0.959889</td>\n",
       "      <td>0.140268</td>\n",
       "    </tr>\n",
       "    <tr>\n",
       "      <th>439</th>\n",
       "      <td>0.635022</td>\n",
       "      <td>-0.484321</td>\n",
       "      <td>1.260937</td>\n",
       "      <td>0.629395</td>\n",
       "      <td>0.759548</td>\n",
       "      <td>-0.199947</td>\n",
       "    </tr>\n",
       "    <tr>\n",
       "      <th>552</th>\n",
       "      <td>0.635022</td>\n",
       "      <td>-0.256522</td>\n",
       "      <td>1.260937</td>\n",
       "      <td>-0.677949</td>\n",
       "      <td>-0.685863</td>\n",
       "      <td>2.776936</td>\n",
       "    </tr>\n",
       "    <tr>\n",
       "      <th>277</th>\n",
       "      <td>-1.150438</td>\n",
       "      <td>-0.581949</td>\n",
       "      <td>-0.679035</td>\n",
       "      <td>-0.677949</td>\n",
       "      <td>-0.062530</td>\n",
       "      <td>-0.880377</td>\n",
       "    </tr>\n",
       "  </tbody>\n",
       "</table>\n",
       "<p>181 rows × 6 columns</p>\n",
       "</div>"
      ],
      "text/plain": [
       "     Pregnancies   Glucose  BloodPressure       BMI  DiabetesPedigreeFunction  \\\n",
       "625     0.039869 -1.037548       1.260937  0.760130                 -0.339567   \n",
       "141     0.337445 -0.516864       0.775944  1.021599                 -0.568424   \n",
       "626    -1.150438  0.101449      -0.355706 -1.128257                 -0.809325   \n",
       "696    -0.257708  1.533331       0.129287 -0.372902                 -0.622627   \n",
       "258    -0.852861  2.314358      -1.810684 -0.953944                  0.542736   \n",
       "..           ...       ...            ...       ...                       ...   \n",
       "691     2.718058  1.175361       3.362572  1.428328                 -0.655751   \n",
       "302     0.337445 -1.460604       0.775944  0.484135                 -0.959889   \n",
       "439     0.635022 -0.484321       1.260937  0.629395                  0.759548   \n",
       "552     0.635022 -0.256522       1.260937 -0.677949                 -0.685863   \n",
       "277    -1.150438 -0.581949      -0.679035 -0.677949                 -0.062530   \n",
       "\n",
       "          Age  \n",
       "625 -0.370055  \n",
       "141  0.395430  \n",
       "626 -1.050485  \n",
       "696 -0.199947  \n",
       "258 -0.795323  \n",
       "..        ...  \n",
       "691  0.905752  \n",
       "302  0.140268  \n",
       "439 -0.199947  \n",
       "552  2.776936  \n",
       "277 -0.880377  \n",
       "\n",
       "[181 rows x 6 columns]"
      ]
     },
     "execution_count": 195,
     "metadata": {},
     "output_type": "execute_result"
    }
   ],
   "source": [
    "X_test_rf = X_test[new_features_rf]\n",
    "X_test_rf"
   ]
  },
  {
   "cell_type": "code",
   "execution_count": 196,
   "id": "9ada5c24",
   "metadata": {},
   "outputs": [
    {
     "data": {
      "text/plain": [
       "0.7790055248618785"
      ]
     },
     "execution_count": 196,
     "metadata": {},
     "output_type": "execute_result"
    }
   ],
   "source": [
    "y_pred_8 = rf_2.predict(X_test_rf)\n",
    "score_rf_4 = accuracy_score(y_test, y_pred_8)\n",
    "score_rf_4"
   ]
  },
  {
   "cell_type": "code",
   "execution_count": 197,
   "id": "693db4b4",
   "metadata": {},
   "outputs": [],
   "source": [
    "rf_scores.append(score_rf_4)"
   ]
  },
  {
   "cell_type": "code",
   "execution_count": 198,
   "id": "517613ec",
   "metadata": {},
   "outputs": [
    {
     "data": {
      "text/plain": [
       "[0.7516498316498317,\n",
       " 0.7535353535353535,\n",
       " 0.8379373848987108,\n",
       " 0.7790055248618785]"
      ]
     },
     "execution_count": 198,
     "metadata": {},
     "output_type": "execute_result"
    }
   ],
   "source": [
    "rf_scores"
   ]
  },
  {
   "cell_type": "markdown",
   "id": "e3f407df",
   "metadata": {},
   "source": [
    "# Gradient Boosting Classifier"
   ]
  },
  {
   "cell_type": "code",
   "execution_count": 199,
   "id": "be4a0f5b",
   "metadata": {},
   "outputs": [],
   "source": [
    "gb_scores = []"
   ]
  },
  {
   "cell_type": "code",
   "execution_count": 200,
   "id": "4770f797",
   "metadata": {},
   "outputs": [],
   "source": [
    "gb_1 = GradientBoostingClassifier()"
   ]
  },
  {
   "cell_type": "code",
   "execution_count": 201,
   "id": "3f75113a",
   "metadata": {},
   "outputs": [
    {
     "data": {
      "text/plain": [
       "0.7461616161616161"
      ]
     },
     "execution_count": 201,
     "metadata": {},
     "output_type": "execute_result"
    }
   ],
   "source": [
    "score_gb_1 = cross_val_score(gb_1, X_train, y_train, \n",
    "                             cv = strat_k_fold, \n",
    "                             scoring = 'accuracy').mean()\n",
    "score_gb_1"
   ]
  },
  {
   "cell_type": "code",
   "execution_count": 202,
   "id": "64ea63b6",
   "metadata": {},
   "outputs": [],
   "source": [
    "gb_scores.append(score_gb_1)"
   ]
  },
  {
   "cell_type": "markdown",
   "id": "2cbcd20a",
   "metadata": {},
   "source": [
    "##### 1.Dimensionality Reduction"
   ]
  },
  {
   "cell_type": "code",
   "execution_count": 203,
   "id": "3395152f",
   "metadata": {},
   "outputs": [
    {
     "data": {
      "text/plain": [
       "RFECV(cv=StratifiedKFold(n_splits=10, random_state=10, shuffle=True),\n",
       "      estimator=GradientBoostingClassifier(), scoring='accuracy')"
      ]
     },
     "execution_count": 203,
     "metadata": {},
     "output_type": "execute_result"
    }
   ],
   "source": [
    "rfecv_gb = RFECV(GradientBoostingClassifier(), \n",
    "                 step=1, \n",
    "                 cv=strat_k_fold, \n",
    "                 scoring='accuracy')\n",
    "rfecv_gb.fit(X, y)"
   ]
  },
  {
   "cell_type": "code",
   "execution_count": 204,
   "id": "908bf238",
   "metadata": {},
   "outputs": [
    {
     "data": {
      "image/png": "[encoded data removed]",
      "text/plain": [
       "<Figure size 432x288 with 1 Axes>"
      ]
     },
     "metadata": {
      "needs_background": "light"
     },
     "output_type": "display_data"
    }
   ],
   "source": [
    "plt.plot(range(1, len(rfecv_log_reg.grid_scores_) + 1), rfecv_gb.grid_scores_)\n",
    "plt.show()"
   ]
  },
  {
   "cell_type": "code",
   "execution_count": 205,
   "id": "57e55801",
   "metadata": {},
   "outputs": [
    {
     "data": {
      "text/plain": [
       "array(['Glucose', 'BMI', 'DiabetesPedigreeFunction', 'Age'], dtype=object)"
      ]
     },
     "execution_count": 205,
     "metadata": {},
     "output_type": "execute_result"
    }
   ],
   "source": [
    "new_features_gb = rfecv_gb.get_feature_names_out()\n",
    "new_features_gb"
   ]
  },
  {
   "cell_type": "code",
   "execution_count": 206,
   "id": "d6ccc73a",
   "metadata": {},
   "outputs": [
    {
     "data": {
      "text/html": [
       "<div>\n",
       "<style scoped>\n",
       "    .dataframe tbody tr th:only-of-type {\n",
       "        vertical-align: middle;\n",
       "    }\n",
       "\n",
       "    .dataframe tbody tr th {\n",
       "        vertical-align: top;\n",
       "    }\n",
       "\n",
       "    .dataframe thead th {\n",
       "        text-align: right;\n",
       "    }\n",
       "</style>\n",
       "<table border=\"1\" class=\"dataframe\">\n",
       "  <thead>\n",
       "    <tr style=\"text-align: right;\">\n",
       "      <th></th>\n",
       "      <th>Glucose</th>\n",
       "      <th>BMI</th>\n",
       "      <th>DiabetesPedigreeFunction</th>\n",
       "      <th>Age</th>\n",
       "    </tr>\n",
       "  </thead>\n",
       "  <tbody>\n",
       "    <tr>\n",
       "      <th>513</th>\n",
       "      <td>-1.005005</td>\n",
       "      <td>-0.750580</td>\n",
       "      <td>0.151271</td>\n",
       "      <td>-0.965431</td>\n",
       "    </tr>\n",
       "    <tr>\n",
       "      <th>645</th>\n",
       "      <td>1.142818</td>\n",
       "      <td>1.007073</td>\n",
       "      <td>-1.026137</td>\n",
       "      <td>-0.285001</td>\n",
       "    </tr>\n",
       "    <tr>\n",
       "      <th>305</th>\n",
       "      <td>-0.061265</td>\n",
       "      <td>1.050651</td>\n",
       "      <td>-0.782224</td>\n",
       "      <td>-0.370055</td>\n",
       "    </tr>\n",
       "    <tr>\n",
       "      <th>373</th>\n",
       "      <td>-0.549407</td>\n",
       "      <td>0.353400</td>\n",
       "      <td>-0.752111</td>\n",
       "      <td>-0.710270</td>\n",
       "    </tr>\n",
       "    <tr>\n",
       "      <th>179</th>\n",
       "      <td>0.264163</td>\n",
       "      <td>0.963495</td>\n",
       "      <td>1.449130</td>\n",
       "      <td>0.310376</td>\n",
       "    </tr>\n",
       "    <tr>\n",
       "      <th>...</th>\n",
       "      <td>...</td>\n",
       "      <td>...</td>\n",
       "      <td>...</td>\n",
       "      <td>...</td>\n",
       "    </tr>\n",
       "    <tr>\n",
       "      <th>442</th>\n",
       "      <td>-0.158893</td>\n",
       "      <td>0.106458</td>\n",
       "      <td>-0.737055</td>\n",
       "      <td>-0.795323</td>\n",
       "    </tr>\n",
       "    <tr>\n",
       "      <th>234</th>\n",
       "      <td>-1.558233</td>\n",
       "      <td>-0.401954</td>\n",
       "      <td>-0.547345</td>\n",
       "      <td>-0.880377</td>\n",
       "    </tr>\n",
       "    <tr>\n",
       "      <th>90</th>\n",
       "      <td>-1.362976</td>\n",
       "      <td>-1.941716</td>\n",
       "      <td>-0.652739</td>\n",
       "      <td>-1.050485</td>\n",
       "    </tr>\n",
       "    <tr>\n",
       "      <th>241</th>\n",
       "      <td>-1.005005</td>\n",
       "      <td>0.091931</td>\n",
       "      <td>-0.086620</td>\n",
       "      <td>-0.965431</td>\n",
       "    </tr>\n",
       "    <tr>\n",
       "      <th>660</th>\n",
       "      <td>1.305532</td>\n",
       "      <td>-0.692475</td>\n",
       "      <td>-0.881596</td>\n",
       "      <td>1.756290</td>\n",
       "    </tr>\n",
       "  </tbody>\n",
       "</table>\n",
       "<p>543 rows × 4 columns</p>\n",
       "</div>"
      ],
      "text/plain": [
       "      Glucose       BMI  DiabetesPedigreeFunction       Age\n",
       "513 -1.005005 -0.750580                  0.151271 -0.965431\n",
       "645  1.142818  1.007073                 -1.026137 -0.285001\n",
       "305 -0.061265  1.050651                 -0.782224 -0.370055\n",
       "373 -0.549407  0.353400                 -0.752111 -0.710270\n",
       "179  0.264163  0.963495                  1.449130  0.310376\n",
       "..        ...       ...                       ...       ...\n",
       "442 -0.158893  0.106458                 -0.737055 -0.795323\n",
       "234 -1.558233 -0.401954                 -0.547345 -0.880377\n",
       "90  -1.362976 -1.941716                 -0.652739 -1.050485\n",
       "241 -1.005005  0.091931                 -0.086620 -0.965431\n",
       "660  1.305532 -0.692475                 -0.881596  1.756290\n",
       "\n",
       "[543 rows x 4 columns]"
      ]
     },
     "execution_count": 206,
     "metadata": {},
     "output_type": "execute_result"
    }
   ],
   "source": [
    "X_new_gb = X_train[new_features_gb]\n",
    "X_new_gb"
   ]
  },
  {
   "cell_type": "code",
   "execution_count": 207,
   "id": "f17ab94d",
   "metadata": {},
   "outputs": [
    {
     "data": {
      "text/plain": [
       "0.7334006734006734"
      ]
     },
     "execution_count": 207,
     "metadata": {},
     "output_type": "execute_result"
    }
   ],
   "source": [
    "score_gb_2 = cross_val_score(GradientBoostingClassifier(), X_new_gb, y_train, cv = strat_k_fold, scoring = 'accuracy').mean()\n",
    "score_gb_2"
   ]
  },
  {
   "cell_type": "code",
   "execution_count": 208,
   "id": "a93fa020",
   "metadata": {},
   "outputs": [],
   "source": [
    "gb_scores.append(score_gb_2)"
   ]
  },
  {
   "cell_type": "markdown",
   "id": "63f81c4e",
   "metadata": {},
   "source": [
    "##### 2.Hyper Parameter Tuning"
   ]
  },
  {
   "cell_type": "code",
   "execution_count": 209,
   "id": "e8e4af4c",
   "metadata": {},
   "outputs": [
    {
     "data": {
      "text/plain": [
       "dict_keys(['ccp_alpha', 'criterion', 'init', 'learning_rate', 'loss', 'max_depth', 'max_features', 'max_leaf_nodes', 'min_impurity_decrease', 'min_samples_leaf', 'min_samples_split', 'min_weight_fraction_leaf', 'n_estimators', 'n_iter_no_change', 'random_state', 'subsample', 'tol', 'validation_fraction', 'verbose', 'warm_start'])"
      ]
     },
     "execution_count": 209,
     "metadata": {},
     "output_type": "execute_result"
    }
   ],
   "source": [
    "gb_1.get_params().keys()"
   ]
  },
  {
   "cell_type": "code",
   "execution_count": 210,
   "id": "69b1d33a",
   "metadata": {},
   "outputs": [],
   "source": [
    "param_grid_gb = {\n",
    "                \"learning_rate\": [0.0001, 0.01, 0.1, 1],\n",
    "                \"n_estimators\" : range(10,40,10),\n",
    "                \"min_samples_leaf\": range(1,6),\n",
    "                \"max_depth\" : range(2,6),\n",
    "                \"max_features\":[\"auto\",\"log2\",\"sqrt\",None],\n",
    "                \"max_leaf_nodes\": range(10,40,10)                \n",
    "}"
   ]
  },
  {
   "cell_type": "code",
   "execution_count": 211,
   "id": "083fe384",
   "metadata": {},
   "outputs": [
    {
     "data": {
      "text/plain": [
       "GridSearchCV(cv=StratifiedKFold(n_splits=10, random_state=10, shuffle=True),\n",
       "             estimator=GradientBoostingClassifier(),\n",
       "             param_grid={'learning_rate': [0.0001, 0.01, 0.1, 1],\n",
       "                         'max_depth': range(2, 6),\n",
       "                         'max_features': ['auto', 'log2', 'sqrt', None],\n",
       "                         'max_leaf_nodes': range(10, 40, 10),\n",
       "                         'min_samples_leaf': range(1, 6),\n",
       "                         'n_estimators': range(10, 40, 10)},\n",
       "             scoring='accuracy')"
      ]
     },
     "execution_count": 211,
     "metadata": {},
     "output_type": "execute_result"
    }
   ],
   "source": [
    "grid_gb = GridSearchCV(GradientBoostingClassifier(), \n",
    "                       param_grid_gb, \n",
    "                       cv = strat_k_fold, \n",
    "                       scoring = 'accuracy')\n",
    "grid_gb.fit(X_new_gb, y_train)"
   ]
  },
  {
   "cell_type": "code",
   "execution_count": 212,
   "id": "0e0b4491",
   "metadata": {},
   "outputs": [
    {
     "data": {
      "text/plain": [
       "{'learning_rate': 0.1,\n",
       " 'max_depth': 3,\n",
       " 'max_features': 'log2',\n",
       " 'max_leaf_nodes': 10,\n",
       " 'min_samples_leaf': 5,\n",
       " 'n_estimators': 30}"
      ]
     },
     "execution_count": 212,
     "metadata": {},
     "output_type": "execute_result"
    }
   ],
   "source": [
    "grid_gb.best_params_"
   ]
  },
  {
   "cell_type": "code",
   "execution_count": 213,
   "id": "519c24b1",
   "metadata": {},
   "outputs": [
    {
     "data": {
      "text/plain": [
       "GradientBoostingClassifier(max_features='log2', max_leaf_nodes=10,\n",
       "                           min_samples_leaf=5, n_estimators=30)"
      ]
     },
     "execution_count": 213,
     "metadata": {},
     "output_type": "execute_result"
    }
   ],
   "source": [
    "grid_gb.best_estimator_"
   ]
  },
  {
   "cell_type": "markdown",
   "id": "84ad5477",
   "metadata": {},
   "source": [
    "##### 3.Final Model"
   ]
  },
  {
   "cell_type": "code",
   "execution_count": 214,
   "id": "138ca552",
   "metadata": {},
   "outputs": [],
   "source": [
    "gb_2 = GradientBoostingClassifier(learning_rate=1, max_depth=2, max_features='log2',\n",
    "                           max_leaf_nodes=30, min_samples_leaf=2,\n",
    "                           n_estimators=10)"
   ]
  },
  {
   "cell_type": "code",
   "execution_count": 215,
   "id": "11c8e889",
   "metadata": {},
   "outputs": [
    {
     "data": {
      "text/plain": [
       "GradientBoostingClassifier(learning_rate=1, max_depth=2, max_features='log2',\n",
       "                           max_leaf_nodes=30, min_samples_leaf=2,\n",
       "                           n_estimators=10)"
      ]
     },
     "execution_count": 215,
     "metadata": {},
     "output_type": "execute_result"
    }
   ],
   "source": [
    "gb_2.fit(X_new_gb, y_train)"
   ]
  },
  {
   "cell_type": "code",
   "execution_count": 216,
   "id": "24adb94b",
   "metadata": {},
   "outputs": [
    {
     "data": {
      "text/plain": [
       "0.8287292817679558"
      ]
     },
     "execution_count": 216,
     "metadata": {},
     "output_type": "execute_result"
    }
   ],
   "source": [
    "y_pred_9 = gb_2.predict(X_new_gb)\n",
    "score_gb_3 = accuracy_score(y_train, y_pred_9)\n",
    "score_gb_3"
   ]
  },
  {
   "cell_type": "code",
   "execution_count": 217,
   "id": "14508dba",
   "metadata": {},
   "outputs": [],
   "source": [
    "gb_scores.append(score_gb_3)"
   ]
  },
  {
   "cell_type": "markdown",
   "id": "ecb802f5",
   "metadata": {},
   "source": [
    "##### 4.Testing"
   ]
  },
  {
   "cell_type": "code",
   "execution_count": 218,
   "id": "03ebdb5f",
   "metadata": {},
   "outputs": [
    {
     "data": {
      "text/html": [
       "<div>\n",
       "<style scoped>\n",
       "    .dataframe tbody tr th:only-of-type {\n",
       "        vertical-align: middle;\n",
       "    }\n",
       "\n",
       "    .dataframe tbody tr th {\n",
       "        vertical-align: top;\n",
       "    }\n",
       "\n",
       "    .dataframe thead th {\n",
       "        text-align: right;\n",
       "    }\n",
       "</style>\n",
       "<table border=\"1\" class=\"dataframe\">\n",
       "  <thead>\n",
       "    <tr style=\"text-align: right;\">\n",
       "      <th></th>\n",
       "      <th>Glucose</th>\n",
       "      <th>BMI</th>\n",
       "      <th>DiabetesPedigreeFunction</th>\n",
       "      <th>Age</th>\n",
       "    </tr>\n",
       "  </thead>\n",
       "  <tbody>\n",
       "    <tr>\n",
       "      <th>625</th>\n",
       "      <td>-1.037548</td>\n",
       "      <td>0.760130</td>\n",
       "      <td>-0.339567</td>\n",
       "      <td>-0.370055</td>\n",
       "    </tr>\n",
       "    <tr>\n",
       "      <th>141</th>\n",
       "      <td>-0.516864</td>\n",
       "      <td>1.021599</td>\n",
       "      <td>-0.568424</td>\n",
       "      <td>0.395430</td>\n",
       "    </tr>\n",
       "    <tr>\n",
       "      <th>626</th>\n",
       "      <td>0.101449</td>\n",
       "      <td>-1.128257</td>\n",
       "      <td>-0.809325</td>\n",
       "      <td>-1.050485</td>\n",
       "    </tr>\n",
       "    <tr>\n",
       "      <th>696</th>\n",
       "      <td>1.533331</td>\n",
       "      <td>-0.372902</td>\n",
       "      <td>-0.622627</td>\n",
       "      <td>-0.199947</td>\n",
       "    </tr>\n",
       "    <tr>\n",
       "      <th>258</th>\n",
       "      <td>2.314358</td>\n",
       "      <td>-0.953944</td>\n",
       "      <td>0.542736</td>\n",
       "      <td>-0.795323</td>\n",
       "    </tr>\n",
       "    <tr>\n",
       "      <th>...</th>\n",
       "      <td>...</td>\n",
       "      <td>...</td>\n",
       "      <td>...</td>\n",
       "      <td>...</td>\n",
       "    </tr>\n",
       "    <tr>\n",
       "      <th>691</th>\n",
       "      <td>1.175361</td>\n",
       "      <td>1.428328</td>\n",
       "      <td>-0.655751</td>\n",
       "      <td>0.905752</td>\n",
       "    </tr>\n",
       "    <tr>\n",
       "      <th>302</th>\n",
       "      <td>-1.460604</td>\n",
       "      <td>0.484135</td>\n",
       "      <td>-0.959889</td>\n",
       "      <td>0.140268</td>\n",
       "    </tr>\n",
       "    <tr>\n",
       "      <th>439</th>\n",
       "      <td>-0.484321</td>\n",
       "      <td>0.629395</td>\n",
       "      <td>0.759548</td>\n",
       "      <td>-0.199947</td>\n",
       "    </tr>\n",
       "    <tr>\n",
       "      <th>552</th>\n",
       "      <td>-0.256522</td>\n",
       "      <td>-0.677949</td>\n",
       "      <td>-0.685863</td>\n",
       "      <td>2.776936</td>\n",
       "    </tr>\n",
       "    <tr>\n",
       "      <th>277</th>\n",
       "      <td>-0.581949</td>\n",
       "      <td>-0.677949</td>\n",
       "      <td>-0.062530</td>\n",
       "      <td>-0.880377</td>\n",
       "    </tr>\n",
       "  </tbody>\n",
       "</table>\n",
       "<p>181 rows × 4 columns</p>\n",
       "</div>"
      ],
      "text/plain": [
       "      Glucose       BMI  DiabetesPedigreeFunction       Age\n",
       "625 -1.037548  0.760130                 -0.339567 -0.370055\n",
       "141 -0.516864  1.021599                 -0.568424  0.395430\n",
       "626  0.101449 -1.128257                 -0.809325 -1.050485\n",
       "696  1.533331 -0.372902                 -0.622627 -0.199947\n",
       "258  2.314358 -0.953944                  0.542736 -0.795323\n",
       "..        ...       ...                       ...       ...\n",
       "691  1.175361  1.428328                 -0.655751  0.905752\n",
       "302 -1.460604  0.484135                 -0.959889  0.140268\n",
       "439 -0.484321  0.629395                  0.759548 -0.199947\n",
       "552 -0.256522 -0.677949                 -0.685863  2.776936\n",
       "277 -0.581949 -0.677949                 -0.062530 -0.880377\n",
       "\n",
       "[181 rows x 4 columns]"
      ]
     },
     "execution_count": 218,
     "metadata": {},
     "output_type": "execute_result"
    }
   ],
   "source": [
    "X_test_gb = X_test[new_features_gb]\n",
    "X_test_gb"
   ]
  },
  {
   "cell_type": "code",
   "execution_count": 219,
   "id": "364dfcf4",
   "metadata": {},
   "outputs": [
    {
     "data": {
      "text/plain": [
       "0.7900552486187845"
      ]
     },
     "execution_count": 219,
     "metadata": {},
     "output_type": "execute_result"
    }
   ],
   "source": [
    "y_pred_10 = gb_2.predict(X_test_gb)\n",
    "score_gb_4 = accuracy_score(y_test, y_pred_10)\n",
    "score_gb_4"
   ]
  },
  {
   "cell_type": "code",
   "execution_count": 220,
   "id": "9b48c96d",
   "metadata": {},
   "outputs": [],
   "source": [
    "gb_scores.append(score_gb_4)"
   ]
  },
  {
   "cell_type": "code",
   "execution_count": 221,
   "id": "a6450074",
   "metadata": {},
   "outputs": [
    {
     "data": {
      "text/plain": [
       "[0.7461616161616161,\n",
       " 0.7334006734006734,\n",
       " 0.8287292817679558,\n",
       " 0.7900552486187845]"
      ]
     },
     "execution_count": 221,
     "metadata": {},
     "output_type": "execute_result"
    }
   ],
   "source": [
    "gb_scores"
   ]
  },
  {
   "cell_type": "markdown",
   "id": "81093b87",
   "metadata": {},
   "source": [
    "# Extra Trees Classifier"
   ]
  },
  {
   "cell_type": "code",
   "execution_count": 228,
   "id": "dac8691e",
   "metadata": {},
   "outputs": [],
   "source": [
    "et_scores = []"
   ]
  },
  {
   "cell_type": "code",
   "execution_count": 229,
   "id": "a1ae51b0",
   "metadata": {},
   "outputs": [],
   "source": [
    "et_1 = ExtraTreesClassifier(random_state = 42)"
   ]
  },
  {
   "cell_type": "code",
   "execution_count": 230,
   "id": "a59aac02",
   "metadata": {},
   "outputs": [
    {
     "data": {
      "text/plain": [
       "0.7442760942760944"
      ]
     },
     "execution_count": 230,
     "metadata": {},
     "output_type": "execute_result"
    }
   ],
   "source": [
    "score_et_1 = cross_val_score(et_1, X_train, y_train, \n",
    "                             cv = strat_k_fold, \n",
    "                             scoring = 'accuracy').mean()\n",
    "score_et_1"
   ]
  },
  {
   "cell_type": "code",
   "execution_count": 231,
   "id": "2357b2db",
   "metadata": {},
   "outputs": [],
   "source": [
    "et_scores.append(score_et_1)"
   ]
  },
  {
   "cell_type": "markdown",
   "id": "91d66b2b",
   "metadata": {},
   "source": [
    "##### 1.Dimensionality Reduction"
   ]
  },
  {
   "cell_type": "code",
   "execution_count": 232,
   "id": "5534b308",
   "metadata": {},
   "outputs": [
    {
     "data": {
      "text/plain": [
       "RFECV(cv=StratifiedKFold(n_splits=10, random_state=10, shuffle=True),\n",
       "      estimator=ExtraTreesClassifier(random_state=42), scoring='accuracy')"
      ]
     },
     "execution_count": 232,
     "metadata": {},
     "output_type": "execute_result"
    }
   ],
   "source": [
    "rfecv_et = RFECV(ExtraTreesClassifier(random_state = 42), \n",
    "                 step = 1, \n",
    "                 cv = strat_k_fold, \n",
    "                 scoring = 'accuracy')\n",
    "rfecv_et.fit(X_train, y_train)"
   ]
  },
  {
   "cell_type": "code",
   "execution_count": 233,
   "id": "d907187b",
   "metadata": {},
   "outputs": [
    {
     "data": {
      "image/png": "[encoded data removed]",
      "text/plain": [
       "<Figure size 432x288 with 1 Axes>"
      ]
     },
     "metadata": {
      "needs_background": "light"
     },
     "output_type": "display_data"
    }
   ],
   "source": [
    "plt.plot(range(1, len(rfecv_log_reg.grid_scores_) + 1), rfecv_et.grid_scores_)\n",
    "plt.show()"
   ]
  },
  {
   "cell_type": "code",
   "execution_count": 234,
   "id": "a669fdc2",
   "metadata": {},
   "outputs": [
    {
     "data": {
      "text/plain": [
       "array(['Pregnancies', 'Glucose', 'BloodPressure', 'Insulin', 'BMI',\n",
       "       'DiabetesPedigreeFunction', 'Age'], dtype=object)"
      ]
     },
     "execution_count": 234,
     "metadata": {},
     "output_type": "execute_result"
    }
   ],
   "source": [
    "new_features_et = rfecv_et.get_feature_names_out()\n",
    "new_features_et"
   ]
  },
  {
   "cell_type": "code",
   "execution_count": 235,
   "id": "d0c418c0",
   "metadata": {},
   "outputs": [
    {
     "data": {
      "text/html": [
       "<div>\n",
       "<style scoped>\n",
       "    .dataframe tbody tr th:only-of-type {\n",
       "        vertical-align: middle;\n",
       "    }\n",
       "\n",
       "    .dataframe tbody tr th {\n",
       "        vertical-align: top;\n",
       "    }\n",
       "\n",
       "    .dataframe thead th {\n",
       "        text-align: right;\n",
       "    }\n",
       "</style>\n",
       "<table border=\"1\" class=\"dataframe\">\n",
       "  <thead>\n",
       "    <tr style=\"text-align: right;\">\n",
       "      <th></th>\n",
       "      <th>Pregnancies</th>\n",
       "      <th>Glucose</th>\n",
       "      <th>BloodPressure</th>\n",
       "      <th>Insulin</th>\n",
       "      <th>BMI</th>\n",
       "      <th>DiabetesPedigreeFunction</th>\n",
       "      <th>Age</th>\n",
       "    </tr>\n",
       "  </thead>\n",
       "  <tbody>\n",
       "    <tr>\n",
       "      <th>513</th>\n",
       "      <td>-0.555284</td>\n",
       "      <td>-1.005005</td>\n",
       "      <td>-0.840699</td>\n",
       "      <td>-0.722572</td>\n",
       "      <td>-0.750580</td>\n",
       "      <td>0.151271</td>\n",
       "      <td>-0.965431</td>\n",
       "    </tr>\n",
       "    <tr>\n",
       "      <th>645</th>\n",
       "      <td>-0.555284</td>\n",
       "      <td>1.142818</td>\n",
       "      <td>0.129287</td>\n",
       "      <td>3.040180</td>\n",
       "      <td>1.007073</td>\n",
       "      <td>-1.026137</td>\n",
       "      <td>-0.285001</td>\n",
       "    </tr>\n",
       "    <tr>\n",
       "      <th>305</th>\n",
       "      <td>-0.555284</td>\n",
       "      <td>-0.061265</td>\n",
       "      <td>0.290951</td>\n",
       "      <td>0.175357</td>\n",
       "      <td>1.050651</td>\n",
       "      <td>-0.782224</td>\n",
       "      <td>-0.370055</td>\n",
       "    </tr>\n",
       "    <tr>\n",
       "      <th>373</th>\n",
       "      <td>-0.555284</td>\n",
       "      <td>-0.549407</td>\n",
       "      <td>-1.164027</td>\n",
       "      <td>0.081288</td>\n",
       "      <td>0.353400</td>\n",
       "      <td>-0.752111</td>\n",
       "      <td>-0.710270</td>\n",
       "    </tr>\n",
       "    <tr>\n",
       "      <th>179</th>\n",
       "      <td>0.337445</td>\n",
       "      <td>0.264163</td>\n",
       "      <td>0.775944</td>\n",
       "      <td>-0.722572</td>\n",
       "      <td>0.963495</td>\n",
       "      <td>1.449130</td>\n",
       "      <td>0.310376</td>\n",
       "    </tr>\n",
       "    <tr>\n",
       "      <th>...</th>\n",
       "      <td>...</td>\n",
       "      <td>...</td>\n",
       "      <td>...</td>\n",
       "      <td>...</td>\n",
       "      <td>...</td>\n",
       "      <td>...</td>\n",
       "      <td>...</td>\n",
       "    </tr>\n",
       "    <tr>\n",
       "      <th>442</th>\n",
       "      <td>0.039869</td>\n",
       "      <td>-0.158893</td>\n",
       "      <td>-0.679035</td>\n",
       "      <td>0.303633</td>\n",
       "      <td>0.106458</td>\n",
       "      <td>-0.737055</td>\n",
       "      <td>-0.795323</td>\n",
       "    </tr>\n",
       "    <tr>\n",
       "      <th>234</th>\n",
       "      <td>-0.257708</td>\n",
       "      <td>-1.558233</td>\n",
       "      <td>-0.355706</td>\n",
       "      <td>-0.337745</td>\n",
       "      <td>-0.401954</td>\n",
       "      <td>-0.547345</td>\n",
       "      <td>-0.880377</td>\n",
       "    </tr>\n",
       "    <tr>\n",
       "      <th>90</th>\n",
       "      <td>-0.852861</td>\n",
       "      <td>-1.362976</td>\n",
       "      <td>-1.406524</td>\n",
       "      <td>-0.722572</td>\n",
       "      <td>-1.941716</td>\n",
       "      <td>-0.652739</td>\n",
       "      <td>-1.050485</td>\n",
       "    </tr>\n",
       "    <tr>\n",
       "      <th>241</th>\n",
       "      <td>0.039869</td>\n",
       "      <td>-1.005005</td>\n",
       "      <td>-0.194042</td>\n",
       "      <td>0.029978</td>\n",
       "      <td>0.091931</td>\n",
       "      <td>-0.086620</td>\n",
       "      <td>-0.965431</td>\n",
       "    </tr>\n",
       "    <tr>\n",
       "      <th>660</th>\n",
       "      <td>1.825328</td>\n",
       "      <td>1.305532</td>\n",
       "      <td>0.937608</td>\n",
       "      <td>-0.722572</td>\n",
       "      <td>-0.692475</td>\n",
       "      <td>-0.881596</td>\n",
       "      <td>1.756290</td>\n",
       "    </tr>\n",
       "  </tbody>\n",
       "</table>\n",
       "<p>543 rows × 7 columns</p>\n",
       "</div>"
      ],
      "text/plain": [
       "     Pregnancies   Glucose  BloodPressure   Insulin       BMI  \\\n",
       "513    -0.555284 -1.005005      -0.840699 -0.722572 -0.750580   \n",
       "645    -0.555284  1.142818       0.129287  3.040180  1.007073   \n",
       "305    -0.555284 -0.061265       0.290951  0.175357  1.050651   \n",
       "373    -0.555284 -0.549407      -1.164027  0.081288  0.353400   \n",
       "179     0.337445  0.264163       0.775944 -0.722572  0.963495   \n",
       "..           ...       ...            ...       ...       ...   \n",
       "442     0.039869 -0.158893      -0.679035  0.303633  0.106458   \n",
       "234    -0.257708 -1.558233      -0.355706 -0.337745 -0.401954   \n",
       "90     -0.852861 -1.362976      -1.406524 -0.722572 -1.941716   \n",
       "241     0.039869 -1.005005      -0.194042  0.029978  0.091931   \n",
       "660     1.825328  1.305532       0.937608 -0.722572 -0.692475   \n",
       "\n",
       "     DiabetesPedigreeFunction       Age  \n",
       "513                  0.151271 -0.965431  \n",
       "645                 -1.026137 -0.285001  \n",
       "305                 -0.782224 -0.370055  \n",
       "373                 -0.752111 -0.710270  \n",
       "179                  1.449130  0.310376  \n",
       "..                        ...       ...  \n",
       "442                 -0.737055 -0.795323  \n",
       "234                 -0.547345 -0.880377  \n",
       "90                  -0.652739 -1.050485  \n",
       "241                 -0.086620 -0.965431  \n",
       "660                 -0.881596  1.756290  \n",
       "\n",
       "[543 rows x 7 columns]"
      ]
     },
     "execution_count": 235,
     "metadata": {},
     "output_type": "execute_result"
    }
   ],
   "source": [
    "X_new_et = X_train[new_features_et]\n",
    "X_new_et"
   ]
  },
  {
   "cell_type": "code",
   "execution_count": 236,
   "id": "b71f56cd",
   "metadata": {},
   "outputs": [
    {
     "data": {
      "text/plain": [
       "0.7736700336700336"
      ]
     },
     "execution_count": 236,
     "metadata": {},
     "output_type": "execute_result"
    }
   ],
   "source": [
    "score_et_2 = cross_val_score(ExtraTreesClassifier(random_state = 42), X_new_et, y_train, cv=strat_k_fold, scoring='accuracy').mean()\n",
    "score_et_2"
   ]
  },
  {
   "cell_type": "code",
   "execution_count": 237,
   "id": "f6e049ff",
   "metadata": {},
   "outputs": [],
   "source": [
    "et_scores.append(score_et_2)"
   ]
  },
  {
   "cell_type": "markdown",
   "id": "d6ba7c06",
   "metadata": {},
   "source": [
    "##### 2.Hyper Parameter Tuning"
   ]
  },
  {
   "cell_type": "code",
   "execution_count": 238,
   "id": "7cd80fc7",
   "metadata": {},
   "outputs": [],
   "source": [
    "param_grid_et ={\"criterion\" : [\"gini\", \"entropy\"],\n",
    "            \"max_depth\" : range(2,6),\n",
    "           \"min_samples_leaf\": range(1,6),\n",
    "           \"max_features\":[\"auto\",\"log2\",\"sqrt\",None],\n",
    "           \"max_leaf_nodes\": range(10,40,10),\n",
    "              \"n_estimators\" : range(10,50,10)}"
   ]
  },
  {
   "cell_type": "code",
   "execution_count": 239,
   "id": "0c23f696",
   "metadata": {},
   "outputs": [
    {
     "data": {
      "text/plain": [
       "GridSearchCV(cv=StratifiedKFold(n_splits=10, random_state=10, shuffle=True),\n",
       "             estimator=ExtraTreesClassifier(random_state=42),\n",
       "             param_grid={'criterion': ['gini', 'entropy'],\n",
       "                         'max_depth': range(2, 6),\n",
       "                         'max_features': ['auto', 'log2', 'sqrt', None],\n",
       "                         'max_leaf_nodes': range(10, 40, 10),\n",
       "                         'min_samples_leaf': range(1, 6),\n",
       "                         'n_estimators': range(10, 50, 10)},\n",
       "             scoring='accuracy')"
      ]
     },
     "execution_count": 239,
     "metadata": {},
     "output_type": "execute_result"
    }
   ],
   "source": [
    "grid_et = GridSearchCV(ExtraTreesClassifier(random_state = 42), \n",
    "                       param_grid_et, \n",
    "                       cv = strat_k_fold, \n",
    "                       scoring = 'accuracy')\n",
    "grid_et.fit(X_new_et, y_train)"
   ]
  },
  {
   "cell_type": "code",
   "execution_count": 240,
   "id": "9bcfcbe7",
   "metadata": {},
   "outputs": [
    {
     "data": {
      "text/plain": [
       "{'criterion': 'gini',\n",
       " 'max_depth': 5,\n",
       " 'max_features': None,\n",
       " 'max_leaf_nodes': 30,\n",
       " 'min_samples_leaf': 2,\n",
       " 'n_estimators': 30}"
      ]
     },
     "execution_count": 240,
     "metadata": {},
     "output_type": "execute_result"
    }
   ],
   "source": [
    "grid_et.best_params_"
   ]
  },
  {
   "cell_type": "code",
   "execution_count": 241,
   "id": "5bb22276",
   "metadata": {},
   "outputs": [
    {
     "data": {
      "text/plain": [
       "ExtraTreesClassifier(max_depth=5, max_features=None, max_leaf_nodes=30,\n",
       "                     min_samples_leaf=2, n_estimators=30, random_state=42)"
      ]
     },
     "execution_count": 241,
     "metadata": {},
     "output_type": "execute_result"
    }
   ],
   "source": [
    "grid_et.best_estimator_"
   ]
  },
  {
   "cell_type": "markdown",
   "id": "f7aaef62",
   "metadata": {},
   "source": [
    "##### 3.Final Model"
   ]
  },
  {
   "cell_type": "code",
   "execution_count": 242,
   "id": "987e83ce",
   "metadata": {},
   "outputs": [],
   "source": [
    "et_2 = ExtraTreesClassifier(max_depth=5, max_features=None, max_leaf_nodes=30,\n",
    "                     min_samples_leaf=2, n_estimators=30, random_state=42)"
   ]
  },
  {
   "cell_type": "code",
   "execution_count": 243,
   "id": "69662efe",
   "metadata": {},
   "outputs": [
    {
     "data": {
      "text/plain": [
       "ExtraTreesClassifier(max_depth=5, max_features=None, max_leaf_nodes=30,\n",
       "                     min_samples_leaf=2, n_estimators=30, random_state=42)"
      ]
     },
     "execution_count": 243,
     "metadata": {},
     "output_type": "execute_result"
    }
   ],
   "source": [
    "et_2.fit(X_new_et, y_train)"
   ]
  },
  {
   "cell_type": "code",
   "execution_count": 244,
   "id": "2b31e5db",
   "metadata": {},
   "outputs": [
    {
     "data": {
      "text/plain": [
       "0.8121546961325967"
      ]
     },
     "execution_count": 244,
     "metadata": {},
     "output_type": "execute_result"
    }
   ],
   "source": [
    "y_pred_11 = et_2.predict(X_new_et)\n",
    "score_et_3 = accuracy_score(y_train, y_pred_11)\n",
    "score_et_3"
   ]
  },
  {
   "cell_type": "code",
   "execution_count": 245,
   "id": "5e3268c2",
   "metadata": {},
   "outputs": [],
   "source": [
    "et_scores.append(score_et_3)"
   ]
  },
  {
   "cell_type": "markdown",
   "id": "826c820a",
   "metadata": {},
   "source": [
    "##### 4.Testing"
   ]
  },
  {
   "cell_type": "code",
   "execution_count": 246,
   "id": "3fa66c40",
   "metadata": {},
   "outputs": [
    {
     "data": {
      "text/html": [
       "<div>\n",
       "<style scoped>\n",
       "    .dataframe tbody tr th:only-of-type {\n",
       "        vertical-align: middle;\n",
       "    }\n",
       "\n",
       "    .dataframe tbody tr th {\n",
       "        vertical-align: top;\n",
       "    }\n",
       "\n",
       "    .dataframe thead th {\n",
       "        text-align: right;\n",
       "    }\n",
       "</style>\n",
       "<table border=\"1\" class=\"dataframe\">\n",
       "  <thead>\n",
       "    <tr style=\"text-align: right;\">\n",
       "      <th></th>\n",
       "      <th>Pregnancies</th>\n",
       "      <th>Glucose</th>\n",
       "      <th>BloodPressure</th>\n",
       "      <th>Insulin</th>\n",
       "      <th>BMI</th>\n",
       "      <th>DiabetesPedigreeFunction</th>\n",
       "      <th>Age</th>\n",
       "    </tr>\n",
       "  </thead>\n",
       "  <tbody>\n",
       "    <tr>\n",
       "      <th>625</th>\n",
       "      <td>0.039869</td>\n",
       "      <td>-1.037548</td>\n",
       "      <td>1.260937</td>\n",
       "      <td>-0.260780</td>\n",
       "      <td>0.760130</td>\n",
       "      <td>-0.339567</td>\n",
       "      <td>-0.370055</td>\n",
       "    </tr>\n",
       "    <tr>\n",
       "      <th>141</th>\n",
       "      <td>0.337445</td>\n",
       "      <td>-0.516864</td>\n",
       "      <td>0.775944</td>\n",
       "      <td>-0.722572</td>\n",
       "      <td>1.021599</td>\n",
       "      <td>-0.568424</td>\n",
       "      <td>0.395430</td>\n",
       "    </tr>\n",
       "    <tr>\n",
       "      <th>626</th>\n",
       "      <td>-1.150438</td>\n",
       "      <td>0.101449</td>\n",
       "      <td>-0.355706</td>\n",
       "      <td>-0.722572</td>\n",
       "      <td>-1.128257</td>\n",
       "      <td>-0.809325</td>\n",
       "      <td>-1.050485</td>\n",
       "    </tr>\n",
       "    <tr>\n",
       "      <th>696</th>\n",
       "      <td>-0.257708</td>\n",
       "      <td>1.533331</td>\n",
       "      <td>0.129287</td>\n",
       "      <td>0.346392</td>\n",
       "      <td>-0.372902</td>\n",
       "      <td>-0.622627</td>\n",
       "      <td>-0.199947</td>\n",
       "    </tr>\n",
       "    <tr>\n",
       "      <th>258</th>\n",
       "      <td>-0.852861</td>\n",
       "      <td>2.314358</td>\n",
       "      <td>-1.810684</td>\n",
       "      <td>2.484319</td>\n",
       "      <td>-0.953944</td>\n",
       "      <td>0.542736</td>\n",
       "      <td>-0.795323</td>\n",
       "    </tr>\n",
       "    <tr>\n",
       "      <th>...</th>\n",
       "      <td>...</td>\n",
       "      <td>...</td>\n",
       "      <td>...</td>\n",
       "      <td>...</td>\n",
       "      <td>...</td>\n",
       "      <td>...</td>\n",
       "      <td>...</td>\n",
       "    </tr>\n",
       "    <tr>\n",
       "      <th>691</th>\n",
       "      <td>2.718058</td>\n",
       "      <td>1.175361</td>\n",
       "      <td>3.362572</td>\n",
       "      <td>-0.722572</td>\n",
       "      <td>1.428328</td>\n",
       "      <td>-0.655751</td>\n",
       "      <td>0.905752</td>\n",
       "    </tr>\n",
       "    <tr>\n",
       "      <th>302</th>\n",
       "      <td>0.337445</td>\n",
       "      <td>-1.460604</td>\n",
       "      <td>0.775944</td>\n",
       "      <td>-0.363400</td>\n",
       "      <td>0.484135</td>\n",
       "      <td>-0.959889</td>\n",
       "      <td>0.140268</td>\n",
       "    </tr>\n",
       "    <tr>\n",
       "      <th>439</th>\n",
       "      <td>0.635022</td>\n",
       "      <td>-0.484321</td>\n",
       "      <td>1.260937</td>\n",
       "      <td>-0.722572</td>\n",
       "      <td>0.629395</td>\n",
       "      <td>0.759548</td>\n",
       "      <td>-0.199947</td>\n",
       "    </tr>\n",
       "    <tr>\n",
       "      <th>552</th>\n",
       "      <td>0.635022</td>\n",
       "      <td>-0.256522</td>\n",
       "      <td>1.260937</td>\n",
       "      <td>-0.722572</td>\n",
       "      <td>-0.677949</td>\n",
       "      <td>-0.685863</td>\n",
       "      <td>2.776936</td>\n",
       "    </tr>\n",
       "    <tr>\n",
       "      <th>277</th>\n",
       "      <td>-1.150438</td>\n",
       "      <td>-0.581949</td>\n",
       "      <td>-0.679035</td>\n",
       "      <td>0.269426</td>\n",
       "      <td>-0.677949</td>\n",
       "      <td>-0.062530</td>\n",
       "      <td>-0.880377</td>\n",
       "    </tr>\n",
       "  </tbody>\n",
       "</table>\n",
       "<p>181 rows × 7 columns</p>\n",
       "</div>"
      ],
      "text/plain": [
       "     Pregnancies   Glucose  BloodPressure   Insulin       BMI  \\\n",
       "625     0.039869 -1.037548       1.260937 -0.260780  0.760130   \n",
       "141     0.337445 -0.516864       0.775944 -0.722572  1.021599   \n",
       "626    -1.150438  0.101449      -0.355706 -0.722572 -1.128257   \n",
       "696    -0.257708  1.533331       0.129287  0.346392 -0.372902   \n",
       "258    -0.852861  2.314358      -1.810684  2.484319 -0.953944   \n",
       "..           ...       ...            ...       ...       ...   \n",
       "691     2.718058  1.175361       3.362572 -0.722572  1.428328   \n",
       "302     0.337445 -1.460604       0.775944 -0.363400  0.484135   \n",
       "439     0.635022 -0.484321       1.260937 -0.722572  0.629395   \n",
       "552     0.635022 -0.256522       1.260937 -0.722572 -0.677949   \n",
       "277    -1.150438 -0.581949      -0.679035  0.269426 -0.677949   \n",
       "\n",
       "     DiabetesPedigreeFunction       Age  \n",
       "625                 -0.339567 -0.370055  \n",
       "141                 -0.568424  0.395430  \n",
       "626                 -0.809325 -1.050485  \n",
       "696                 -0.622627 -0.199947  \n",
       "258                  0.542736 -0.795323  \n",
       "..                        ...       ...  \n",
       "691                 -0.655751  0.905752  \n",
       "302                 -0.959889  0.140268  \n",
       "439                  0.759548 -0.199947  \n",
       "552                 -0.685863  2.776936  \n",
       "277                 -0.062530 -0.880377  \n",
       "\n",
       "[181 rows x 7 columns]"
      ]
     },
     "execution_count": 246,
     "metadata": {},
     "output_type": "execute_result"
    }
   ],
   "source": [
    "X_test_et = X_test[new_features_et]\n",
    "X_test_et"
   ]
  },
  {
   "cell_type": "code",
   "execution_count": 247,
   "id": "a5b3e115",
   "metadata": {},
   "outputs": [
    {
     "data": {
      "text/plain": [
       "0.7624309392265194"
      ]
     },
     "execution_count": 247,
     "metadata": {},
     "output_type": "execute_result"
    }
   ],
   "source": [
    "y_pred_12 = et_2.predict(X_test_et)\n",
    "score_et_4 = accuracy_score(y_test, y_pred_12)\n",
    "score_et_4"
   ]
  },
  {
   "cell_type": "code",
   "execution_count": 248,
   "id": "b04a63d6",
   "metadata": {},
   "outputs": [],
   "source": [
    "et_scores.append(score_et_4)"
   ]
  },
  {
   "cell_type": "code",
   "execution_count": 249,
   "id": "b5072c0a",
   "metadata": {},
   "outputs": [
    {
     "data": {
      "text/plain": [
       "[0.7442760942760944,\n",
       " 0.7736700336700336,\n",
       " 0.8121546961325967,\n",
       " 0.7624309392265194]"
      ]
     },
     "execution_count": 249,
     "metadata": {},
     "output_type": "execute_result"
    }
   ],
   "source": [
    "et_scores"
   ]
  },
  {
   "cell_type": "code",
   "execution_count": 251,
   "id": "28e09fac",
   "metadata": {},
   "outputs": [],
   "source": [
    "models = pd.DataFrame({\n",
    "    'Events \\\\ Models' : ['Initial','After Dimensionality Reduction',\n",
    "                          'Final Model after Hyper Parameter Tuning','Testing Scores'],\n",
    "    'Logistics Regression (Accuracy Scores)' : log_reg_scores,\n",
    "    'Support Vector Classifier (Accuracy Scores)' : svc_scores,\n",
    "    'Decision Tree Classifier (Accuracy Scores)' : dt_scores,\n",
    "    'Random Forest Classifier (Accuracy Scores)' : rf_scores,\n",
    "    'Gradient Boosting Classifier (Accuracy Scores)' : gb_scores,\n",
    "    'Extra Trees Classifier (Accuracy Scores)' : et_scores\n",
    "})"
   ]
  },
  {
   "cell_type": "code",
   "execution_count": 252,
   "id": "deffb3b9",
   "metadata": {},
   "outputs": [
    {
     "data": {
      "text/html": [
       "<div>\n",
       "<style scoped>\n",
       "    .dataframe tbody tr th:only-of-type {\n",
       "        vertical-align: middle;\n",
       "    }\n",
       "\n",
       "    .dataframe tbody tr th {\n",
       "        vertical-align: top;\n",
       "    }\n",
       "\n",
       "    .dataframe thead th {\n",
       "        text-align: right;\n",
       "    }\n",
       "</style>\n",
       "<table border=\"1\" class=\"dataframe\">\n",
       "  <thead>\n",
       "    <tr style=\"text-align: right;\">\n",
       "      <th></th>\n",
       "      <th>Events \\ Models</th>\n",
       "      <th>Logistics Regression (Accuracy Scores)</th>\n",
       "      <th>Support Vector Classifier (Accuracy Scores)</th>\n",
       "      <th>Decision Tree Classifier (Accuracy Scores)</th>\n",
       "      <th>Random Forest Classifier (Accuracy Scores)</th>\n",
       "      <th>Gradient Boosting Classifier (Accuracy Scores)</th>\n",
       "      <th>Extra Trees Classifier (Accuracy Scores)</th>\n",
       "    </tr>\n",
       "  </thead>\n",
       "  <tbody>\n",
       "    <tr>\n",
       "      <th>0</th>\n",
       "      <td>Initial</td>\n",
       "      <td>0.770202</td>\n",
       "      <td>0.764545</td>\n",
       "      <td>0.703670</td>\n",
       "      <td>0.751650</td>\n",
       "      <td>0.746162</td>\n",
       "      <td>0.744276</td>\n",
       "    </tr>\n",
       "    <tr>\n",
       "      <th>1</th>\n",
       "      <td>After Dimensionality Reduction</td>\n",
       "      <td>0.777475</td>\n",
       "      <td>0.771919</td>\n",
       "      <td>0.687239</td>\n",
       "      <td>0.753535</td>\n",
       "      <td>0.733401</td>\n",
       "      <td>0.773670</td>\n",
       "    </tr>\n",
       "    <tr>\n",
       "      <th>2</th>\n",
       "      <td>Final Model after Hyper Parameter Tuning</td>\n",
       "      <td>0.777164</td>\n",
       "      <td>0.777164</td>\n",
       "      <td>0.779006</td>\n",
       "      <td>0.837937</td>\n",
       "      <td>0.828729</td>\n",
       "      <td>0.812155</td>\n",
       "    </tr>\n",
       "    <tr>\n",
       "      <th>3</th>\n",
       "      <td>Testing Scores</td>\n",
       "      <td>0.790055</td>\n",
       "      <td>0.773481</td>\n",
       "      <td>0.801105</td>\n",
       "      <td>0.779006</td>\n",
       "      <td>0.790055</td>\n",
       "      <td>0.762431</td>\n",
       "    </tr>\n",
       "  </tbody>\n",
       "</table>\n",
       "</div>"
      ],
      "text/plain": [
       "                            Events \\ Models  \\\n",
       "0                                   Initial   \n",
       "1            After Dimensionality Reduction   \n",
       "2  Final Model after Hyper Parameter Tuning   \n",
       "3                            Testing Scores   \n",
       "\n",
       "   Logistics Regression (Accuracy Scores)  \\\n",
       "0                                0.770202   \n",
       "1                                0.777475   \n",
       "2                                0.777164   \n",
       "3                                0.790055   \n",
       "\n",
       "   Support Vector Classifier (Accuracy Scores)  \\\n",
       "0                                     0.764545   \n",
       "1                                     0.771919   \n",
       "2                                     0.777164   \n",
       "3                                     0.773481   \n",
       "\n",
       "   Decision Tree Classifier (Accuracy Scores)  \\\n",
       "0                                    0.703670   \n",
       "1                                    0.687239   \n",
       "2                                    0.779006   \n",
       "3                                    0.801105   \n",
       "\n",
       "   Random Forest Classifier (Accuracy Scores)  \\\n",
       "0                                    0.751650   \n",
       "1                                    0.753535   \n",
       "2                                    0.837937   \n",
       "3                                    0.779006   \n",
       "\n",
       "   Gradient Boosting Classifier (Accuracy Scores)  \\\n",
       "0                                        0.746162   \n",
       "1                                        0.733401   \n",
       "2                                        0.828729   \n",
       "3                                        0.790055   \n",
       "\n",
       "   Extra Trees Classifier (Accuracy Scores)  \n",
       "0                                  0.744276  \n",
       "1                                  0.773670  \n",
       "2                                  0.812155  \n",
       "3                                  0.762431  "
      ]
     },
     "execution_count": 252,
     "metadata": {},
     "output_type": "execute_result"
    }
   ],
   "source": [
    "models"
   ]
  },
  {
   "cell_type": "code",
   "execution_count": null,
   "id": "d1245b0c",
   "metadata": {},
   "outputs": [],
   "source": []
  }
 ],
 "metadata": {
  "kernelspec": {
   "display_name": "Python 3 (ipykernel)",
   "language": "python",
   "name": "python3"
  },
  "language_info": {
   "codemirror_mode": {
    "name": "ipython",
    "version": 3
   },
   "file_extension": ".py",
   "mimetype": "text/x-python",
   "name": "python",
   "nbconvert_exporter": "python",
   "pygments_lexer": "ipython3",
   "version": "3.9.7"
  }
 },
 "nbformat": 4,
 "nbformat_minor": 5
}
